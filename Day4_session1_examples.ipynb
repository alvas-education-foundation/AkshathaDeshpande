{
  "nbformat": 4,
  "nbformat_minor": 0,
  "metadata": {
    "colab": {
      "name": "Day4_session1_examples.ipynb",
      "provenance": [],
      "authorship_tag": "ABX9TyNn/nEIyW8KyJDkP/KuUi50",
      "include_colab_link": true
    },
    "kernelspec": {
      "name": "python3",
      "display_name": "Python 3"
    }
  },
  "cells": [
    {
      "cell_type": "markdown",
      "metadata": {
        "id": "view-in-github",
        "colab_type": "text"
      },
      "source": [
        "<a href=\"https://colab.research.google.com/github/alvas-education-foundation/AkshathaDeshpande/blob/master/Day4_session1_examples.ipynb\" target=\"_parent\"><img src=\"https://colab.research.google.com/assets/colab-badge.svg\" alt=\"Open In Colab\"/></a>"
      ]
    },
    {
      "cell_type": "code",
      "metadata": {
        "id": "OUs3gwe7hU0T",
        "colab_type": "code",
        "colab": {
          "base_uri": "https://localhost:8080/",
          "height": 34
        },
        "outputId": "f284dfa5-135f-46cb-8f05-99763027b69e"
      },
      "source": [
        "result_list = ['True', 'False', 'File not found']\n",
        "result_string = ''\n",
        "for result in result_list:\n",
        "  result_string += result\n",
        "result_string"
      ],
      "execution_count": 3,
      "outputs": [
        {
          "output_type": "execute_result",
          "data": {
            "application/vnd.google.colaboratory.intrinsic+json": {
              "type": "string"
            },
            "text/plain": [
              "'True\\tFalseFile not found'"
            ]
          },
          "metadata": {
            "tags": []
          },
          "execution_count": 3
        }
      ]
    },
    {
      "cell_type": "markdown",
      "metadata": {
        "id": "IHKPcuFFh6Df",
        "colab_type": "text"
      },
      "source": [
        "#Idiomatic Code"
      ]
    },
    {
      "cell_type": "code",
      "metadata": {
        "id": "33gvXaC5hz5i",
        "colab_type": "code",
        "colab": {
          "base_uri": "https://localhost:8080/",
          "height": 34
        },
        "outputId": "853a01d5-dc74-4972-abb3-0cd2906a4bb3"
      },
      "source": [
        "result_list = ['True', 'False', 'File not found']\n",
        "result_string = ' '.join(result_list)\n",
        "result_string"
      ],
      "execution_count": 4,
      "outputs": [
        {
          "output_type": "execute_result",
          "data": {
            "application/vnd.google.colaboratory.intrinsic+json": {
              "type": "string"
            },
            "text/plain": [
              "'True False File not found'"
            ]
          },
          "metadata": {
            "tags": []
          },
          "execution_count": 4
        }
      ]
    },
    {
      "cell_type": "markdown",
      "metadata": {
        "id": "-0QH0Vx8h7Fw",
        "colab_type": "text"
      },
      "source": [
        "#Chain string functions"
      ]
    },
    {
      "cell_type": "code",
      "metadata": {
        "id": "8qlHBt75h88R",
        "colab_type": "code",
        "colab": {
          "base_uri": "https://localhost:8080/",
          "height": 34
        },
        "outputId": "bba6fb2c-dc23-4923-9859-1790e2f58a93"
      },
      "source": [
        "book_info = ' The Three Musketeers: Alexandre Dumas'\n",
        "formatted_book_info = book_info.strip()\n",
        "formatted_book_info = formatted_book_info.upper()\n",
        "formatted_book_info = formatted_book_info.replace(':', ' by')\n",
        "formatted_book_info"
      ],
      "execution_count": 5,
      "outputs": [
        {
          "output_type": "execute_result",
          "data": {
            "application/vnd.google.colaboratory.intrinsic+json": {
              "type": "string"
            },
            "text/plain": [
              "'THE THREE MUSKETEERS by ALEXANDRE DUMAS'"
            ]
          },
          "metadata": {
            "tags": []
          },
          "execution_count": 5
        }
      ]
    },
    {
      "cell_type": "markdown",
      "metadata": {
        "id": "-cMDWT22ilfl",
        "colab_type": "text"
      },
      "source": [
        "#THE THREE MUSKETEERS by ALEXANDRE DUMAS"
      ]
    },
    {
      "cell_type": "code",
      "metadata": {
        "id": "SRDeLJQDiqeu",
        "colab_type": "code",
        "colab": {
          "base_uri": "https://localhost:8080/",
          "height": 34
        },
        "outputId": "a6d353c3-d25c-4178-93fb-1142f7d361c4"
      },
      "source": [
        "book_info = ' The Three Musketeers: Alexandre Dumas'\n",
        "formatted_book_info = book_info.strip().upper().replace(':', ' by')\n",
        "formatted_book_info"
      ],
      "execution_count": 6,
      "outputs": [
        {
          "output_type": "execute_result",
          "data": {
            "application/vnd.google.colaboratory.intrinsic+json": {
              "type": "string"
            },
            "text/plain": [
              "'THE THREE MUSKETEERS by ALEXANDRE DUMAS'"
            ]
          },
          "metadata": {
            "tags": []
          },
          "execution_count": 6
        }
      ]
    },
    {
      "cell_type": "markdown",
      "metadata": {
        "id": "Bn_V6lDjjrQG",
        "colab_type": "text"
      },
      "source": [
        "#Removing Duplicates from a List"
      ]
    },
    {
      "cell_type": "code",
      "metadata": {
        "id": "GToEVSSGjx6h",
        "colab_type": "code",
        "colab": {
          "base_uri": "https://localhost:8080/",
          "height": 33
        },
        "outputId": "d59472e0-6917-4fac-ca38-590f942adcf6"
      },
      "source": [
        "ints_list = [1, 2, 3, 4, 3, 2]\n",
        "temp = []\n",
        "for x in ints_list:\n",
        "    if x not in temp:\n",
        "        temp.append(x)\n",
        "ints_list = temp\n",
        "print(f'Updated List after removing duplicates = {temp}')"
      ],
      "execution_count": 7,
      "outputs": [
        {
          "output_type": "stream",
          "text": [
            "Updated List after removing duplicates = [1, 2, 3, 4]\n"
          ],
          "name": "stdout"
        }
      ]
    },
    {
      "cell_type": "markdown",
      "metadata": {
        "id": "cY7j0OgEj53N",
        "colab_type": "text"
      },
      "source": [
        "#The following code is idiomatic using set()\n"
      ]
    },
    {
      "cell_type": "code",
      "metadata": {
        "id": "7yYPdoNbj5J1",
        "colab_type": "code",
        "colab": {
          "base_uri": "https://localhost:8080/",
          "height": 33
        },
        "outputId": "3559e77e-4284-41ba-9601-c922fb52a9bf"
      },
      "source": [
        "ints_list = [1, 2, 3, 4, 3, 2]\n",
        "ints_list1 = list(set(ints_list))\n",
        "print(ints_list1)  # [1, 2, 3, 4]"
      ],
      "execution_count": 8,
      "outputs": [
        {
          "output_type": "stream",
          "text": [
            "[1, 2, 3, 4]\n"
          ],
          "name": "stdout"
        }
      ]
    },
    {
      "cell_type": "markdown",
      "metadata": {
        "id": "39QAUIBJkBZ3",
        "colab_type": "text"
      },
      "source": [
        "#some of the important functions in Python zip() in Python\n"
      ]
    },
    {
      "cell_type": "code",
      "metadata": {
        "id": "5oNM9P_YkISy",
        "colab_type": "code",
        "colab": {
          "base_uri": "https://localhost:8080/",
          "height": 33
        },
        "outputId": "af12dfe0-eca2-40a5-9087-ee7ef6adbc02"
      },
      "source": [
        "name = [ \"naina\", \"rakhi\", \"keerthi\", \"avinash\" ] \n",
        "roll_no = [ 4, 1, 3, 2 ] \n",
        "marks = [ 40, 50, 60, 70 ] \n",
        "  \n",
        "# using zip() to map values \n",
        "mapped = zip(name, roll_no, marks) \n",
        "  \n",
        "# converting values to print as set \n",
        "mapped = set(mapped) \n",
        "  \n",
        "# printing resultant values  \n",
        "print (\"The zipped result is : \",end=\"\") \n",
        "print (mapped)"
      ],
      "execution_count": 10,
      "outputs": [
        {
          "output_type": "stream",
          "text": [
            "The zipped result is : {('avinash', 2, 70), ('naina', 4, 40), ('rakhi', 1, 50), ('keerthi', 3, 60)}\n"
          ],
          "name": "stdout"
        }
      ]
    },
    {
      "cell_type": "markdown",
      "metadata": {
        "id": "vXydb1bikWjo",
        "colab_type": "text"
      },
      "source": [
        "#How to unzip?\n",
        "\n"
      ]
    },
    {
      "cell_type": "code",
      "metadata": {
        "id": "au70q0aEkXEP",
        "colab_type": "code",
        "colab": {
          "base_uri": "https://localhost:8080/",
          "height": 33
        },
        "outputId": "b1acdd61-3c67-469f-8dfe-d16dd57fcd07"
      },
      "source": [
        "name,rollno,marks=zip(*mapped)\n",
        "print(name,rollno,marks)"
      ],
      "execution_count": 11,
      "outputs": [
        {
          "output_type": "stream",
          "text": [
            "('avinash', 'naina', 'rakhi', 'keerthi') (2, 4, 1, 3) (70, 40, 50, 60)\n"
          ],
          "name": "stdout"
        }
      ]
    },
    {
      "cell_type": "markdown",
      "metadata": {
        "id": "yOWPayrukga5",
        "colab_type": "text"
      },
      "source": [
        "#Map() function with lamda in Python\n",
        "\n"
      ]
    },
    {
      "cell_type": "code",
      "metadata": {
        "id": "VX2x2zZbkmPz",
        "colab_type": "code",
        "colab": {
          "base_uri": "https://localhost:8080/",
          "height": 50
        },
        "outputId": "d7f5bb4b-5fd4-4019-f6fb-0558fe107689"
      },
      "source": [
        "def square(x):\n",
        "    return x*x\n",
        "numbers=[1, 2, 3, 4, 5]\n",
        "sqrList=map(square, numbers)\n",
        "print(list(sqrList))\n",
        "# use lamda function to have direct values\n",
        "sqrList1 = map(lambda x: x*x, [1, 2, 3, 4])\n",
        "print(list(sqrList1))"
      ],
      "execution_count": 12,
      "outputs": [
        {
          "output_type": "stream",
          "text": [
            "[1, 4, 9, 16, 25]\n",
            "[1, 4, 9, 16]\n"
          ],
          "name": "stdout"
        }
      ]
    },
    {
      "cell_type": "markdown",
      "metadata": {
        "id": "iSoKbUR_kp-J",
        "colab_type": "text"
      },
      "source": [
        "#Slicing operations in string\n"
      ]
    },
    {
      "cell_type": "code",
      "metadata": {
        "id": "xkviP0c0kt84",
        "colab_type": "code",
        "colab": {
          "base_uri": "https://localhost:8080/",
          "height": 67
        },
        "outputId": "382d2248-cbab-40ba-c7cb-b6a035e0ff29"
      },
      "source": [
        "def change(string):\n",
        "      return string[-1] + string[1:-1] + string[0]\n",
        "string=input(\"Enter string:\")\n",
        "print(\"Modified string:\",change(string))\n",
        "print('original string :',string)"
      ],
      "execution_count": 13,
      "outputs": [
        {
          "output_type": "stream",
          "text": [
            "Enter string:incredible\n",
            "Modified string: encredibli\n",
            "original string : incredible\n"
          ],
          "name": "stdout"
        }
      ]
    },
    {
      "cell_type": "markdown",
      "metadata": {
        "id": "nmj7UTxLlFo5",
        "colab_type": "text"
      },
      "source": [
        "#Removing one character from a string\n",
        "\n"
      ]
    },
    {
      "cell_type": "code",
      "metadata": {
        "id": "ibpY7g7YlKsR",
        "colab_type": "code",
        "colab": {
          "base_uri": "https://localhost:8080/",
          "height": 50
        },
        "outputId": "1956f1e4-b9f2-4ba8-ea9b-ddd5835c2463"
      },
      "source": [
        "def remove(string, n): \n",
        "      first = string[:n]   \n",
        "      last = string[n+1:]  \n",
        "      return first + last\n",
        "string=input(\"Enter the sring:\")\n",
        "n=int(input(\"Enter the index of the character to remove:\"))"
      ],
      "execution_count": 14,
      "outputs": [
        {
          "output_type": "stream",
          "text": [
            "Enter the sring:Incredibles\n",
            "Enter the index of the character to remove:3\n"
          ],
          "name": "stdout"
        }
      ]
    },
    {
      "cell_type": "markdown",
      "metadata": {
        "id": "Pe-5d6JrlkQJ",
        "colab_type": "text"
      },
      "source": [
        "#Sorting in Python using function"
      ]
    },
    {
      "cell_type": "code",
      "metadata": {
        "id": "kcIjT8qUlKpU",
        "colab_type": "code",
        "colab": {
          "base_uri": "https://localhost:8080/",
          "height": 84
        },
        "outputId": "27d8e2d9-ccf7-4665-9288-e9bc60827f59"
      },
      "source": [
        "def myFunc(e):\n",
        "  return len(e)\n",
        "#myfunc=lambda x : len(x)\n",
        "cars = ['Ford', 'Mitsubishi', 'BMW', 'VW']\n",
        "cars.sort(key=myFunc)\n",
        "print(cars)\n",
        "def myFunc(e):\n",
        "  return e[1]\n",
        "cars = [(1,'Ford'), (2,'Mitsubishi'), (3,'BMW'), (4,'VW')]\n",
        "cars.sort(key=myFunc)\n",
        "print(cars)\n",
        "cars.sort(key=myFunc,reverse=True)\n",
        "print(cars)\n",
        "cars.sort(key=myFunc,reverse=True)\n",
        "print(cars)"
      ],
      "execution_count": 15,
      "outputs": [
        {
          "output_type": "stream",
          "text": [
            "['VW', 'BMW', 'Ford', 'Mitsubishi']\n",
            "[(3, 'BMW'), (1, 'Ford'), (2, 'Mitsubishi'), (4, 'VW')]\n",
            "[(4, 'VW'), (2, 'Mitsubishi'), (1, 'Ford'), (3, 'BMW')]\n",
            "[(4, 'VW'), (2, 'Mitsubishi'), (1, 'Ford'), (3, 'BMW')]\n"
          ],
          "name": "stdout"
        }
      ]
    },
    {
      "cell_type": "markdown",
      "metadata": {
        "id": "J1tEznnclyKL",
        "colab_type": "text"
      },
      "source": [
        "#itertools groupby"
      ]
    },
    {
      "cell_type": "code",
      "metadata": {
        "id": "cAbsKvhSlsx-",
        "colab_type": "code",
        "colab": {
          "base_uri": "https://localhost:8080/",
          "height": 101
        },
        "outputId": "9ecb5232-5356-455d-9bef-5d978bb1d4f4"
      },
      "source": [
        "from itertools import groupby\n",
        "things = [(\"animal\", \"bear\"), (\"animal\", \"duck\"), \\\n",
        "          (\"plant\", \"cactus\"), (\"vehicle\", \"speed boat\"),\\\n",
        "          (\"vehicle\", \"school bus\")]\n",
        "for key, group in groupby(things, lambda x: x[0]):\n",
        "    for thing in group:\n",
        "      print (\"A %s is a %s.\"%(thing[1], key))"
      ],
      "execution_count": 16,
      "outputs": [
        {
          "output_type": "stream",
          "text": [
            "A bear is a animal.\n",
            "A duck is a animal.\n",
            "A cactus is a plant.\n",
            "A speed boat is a vehicle.\n",
            "A school bus is a vehicle.\n"
          ],
          "name": "stdout"
        }
      ]
    },
    {
      "cell_type": "markdown",
      "metadata": {
        "id": "gNzzgiDJl5bO",
        "colab_type": "text"
      },
      "source": [
        "#Combinations Of string \"SADIK\" OF SIZE 3."
      ]
    },
    {
      "cell_type": "code",
      "metadata": {
        "id": "IS_OyVtPl2GE",
        "colab_type": "code",
        "colab": {
          "base_uri": "https://localhost:8080/",
          "height": 33
        },
        "outputId": "77838437-5b9c-4068-851d-11bce375c37e"
      },
      "source": [
        "from itertools import combinations \n",
        "  \n",
        "letters =\"SADIK\"\n",
        "  \n",
        "# size of combination is set to 3 \n",
        "a = combinations(letters, 3)  \n",
        "y = [' '.join(i) for i in a]  \n",
        "print(y)"
      ],
      "execution_count": 17,
      "outputs": [
        {
          "output_type": "stream",
          "text": [
            "['S A D', 'S A I', 'S A K', 'S D I', 'S D K', 'S I K', 'A D I', 'A D K', 'A I K', 'D I K']\n"
          ],
          "name": "stdout"
        }
      ]
    },
    {
      "cell_type": "markdown",
      "metadata": {
        "id": "nmBd00PfmA2j",
        "colab_type": "text"
      },
      "source": [
        "#Permutations Of string \"SADIK\" OF SIZE 3\n",
        "\n"
      ]
    },
    {
      "cell_type": "code",
      "metadata": {
        "id": "u3x7Gb_jmF1O",
        "colab_type": "code",
        "colab": {
          "base_uri": "https://localhost:8080/",
          "height": 53
        },
        "outputId": "4ce90060-3d25-4787-9ad9-9a47a829ec7f"
      },
      "source": [
        "from itertools import permutations \n",
        "  \n",
        "letters =\"SADIK\"\n",
        "  \n",
        "# size of permutaion is set to 3 \n",
        "a = permutations(letters, 3)  \n",
        "y = [' '.join(i) for i in a]  \n",
        "print(y)"
      ],
      "execution_count": 18,
      "outputs": [
        {
          "output_type": "stream",
          "text": [
            "['S A D', 'S A I', 'S A K', 'S D A', 'S D I', 'S D K', 'S I A', 'S I D', 'S I K', 'S K A', 'S K D', 'S K I', 'A S D', 'A S I', 'A S K', 'A D S', 'A D I', 'A D K', 'A I S', 'A I D', 'A I K', 'A K S', 'A K D', 'A K I', 'D S A', 'D S I', 'D S K', 'D A S', 'D A I', 'D A K', 'D I S', 'D I A', 'D I K', 'D K S', 'D K A', 'D K I', 'I S A', 'I S D', 'I S K', 'I A S', 'I A D', 'I A K', 'I D S', 'I D A', 'I D K', 'I K S', 'I K A', 'I K D', 'K S A', 'K S D', 'K S I', 'K A S', 'K A D', 'K A I', 'K D S', 'K D A', 'K D I', 'K I S', 'K I A', 'K I D']\n"
          ],
          "name": "stdout"
        }
      ]
    },
    {
      "cell_type": "markdown",
      "metadata": {
        "id": "IjucGVcymJYD",
        "colab_type": "text"
      },
      "source": [
        "#Accumulate()\n",
        "\n"
      ]
    },
    {
      "cell_type": "code",
      "metadata": {
        "id": "CBMEdtUVmNCL",
        "colab_type": "code",
        "colab": {
          "base_uri": "https://localhost:8080/",
          "height": 101
        },
        "outputId": "77ac48aa-1d5a-47e2-f084-824b9752831b"
      },
      "source": [
        "# import the itertool module  \n",
        "# to work with it \n",
        "import itertools \n",
        "  \n",
        "# import operator to work  \n",
        "# with operator \n",
        "import operator \n",
        "  \n",
        "# creating a list GFG \n",
        "GFG = [1, 2, 3, 4, 5] \n",
        "  \n",
        "# using the itertools.accumulate()  \n",
        "result = itertools.accumulate(GFG,  \n",
        "                              operator.mul) \n",
        "  \n",
        "# printing each item from list \n",
        "for each in result: \n",
        "    print(each)"
      ],
      "execution_count": 19,
      "outputs": [
        {
          "output_type": "stream",
          "text": [
            "1\n",
            "2\n",
            "6\n",
            "24\n",
            "120\n"
          ],
          "name": "stdout"
        }
      ]
    },
    {
      "cell_type": "markdown",
      "metadata": {
        "id": "e_nBxN9LmQ1p",
        "colab_type": "text"
      },
      "source": [
        "#Swaping by ^(Exclusive or)\n",
        "\n"
      ]
    },
    {
      "cell_type": "code",
      "metadata": {
        "id": "i_kIJC7SmUfH",
        "colab_type": "code",
        "colab": {
          "base_uri": "https://localhost:8080/",
          "height": 50
        },
        "outputId": "0dbb54c0-c3c5-4b76-c402-d1b066e419e1"
      },
      "source": [
        "a=5\n",
        "b=4\n",
        "a=a^b\n",
        "b=a^b\n",
        "a=a^b\n",
        "print(a)\n",
        "print(b)"
      ],
      "execution_count": 20,
      "outputs": [
        {
          "output_type": "stream",
          "text": [
            "4\n",
            "5\n"
          ],
          "name": "stdout"
        }
      ]
    }
  ]
}