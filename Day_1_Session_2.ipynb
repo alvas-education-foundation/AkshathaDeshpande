{
  "nbformat": 4,
  "nbformat_minor": 0,
  "metadata": {
    "colab": {
      "name": "Day_1_Session_2.ipynb",
      "provenance": [],
      "collapsed_sections": [],
      "authorship_tag": "ABX9TyNQGnEVymIvZESv1aGYqd/a",
      "include_colab_link": true
    },
    "kernelspec": {
      "name": "python3",
      "display_name": "Python 3"
    }
  },
  "cells": [
    {
      "cell_type": "markdown",
      "metadata": {
        "id": "view-in-github",
        "colab_type": "text"
      },
      "source": [
        "<a href=\"https://colab.research.google.com/github/alvas-education-foundation/AkshathaDeshpande/blob/master/Day_1_Session_2.ipynb\" target=\"_parent\"><img src=\"https://colab.research.google.com/assets/colab-badge.svg\" alt=\"Open In Colab\"/></a>"
      ]
    },
    {
      "cell_type": "markdown",
      "metadata": {
        "id": "AFLTXBFEqb9N",
        "colab_type": "text"
      },
      "source": [
        "Write a program to print the triangle \n",
        "i/p  4\n"
      ]
    },
    {
      "cell_type": "code",
      "metadata": {
        "id": "Y2tM581fqbJB",
        "colab_type": "code",
        "colab": {
          "base_uri": "https://localhost:8080/",
          "height": 120
        },
        "outputId": "4425a2d9-0663-4899-a45a-b77dfa2141db"
      },
      "source": [
        "#1\n",
        "n=int(input(\"Enter the Number \"));\n",
        "for i in range(n+1):\n",
        "    for j in range(i):\n",
        "        print (j+i ,end=\" \")\n",
        "    print('')"
      ],
      "execution_count": null,
      "outputs": [
        {
          "output_type": "stream",
          "text": [
            "Enter the Number 4\n",
            "\n",
            "1 \n",
            "2 3 \n",
            "3 4 5 \n",
            "4 5 6 7 \n"
          ],
          "name": "stdout"
        }
      ]
    },
    {
      "cell_type": "markdown",
      "metadata": {
        "id": "6f3-bzroq7Z8",
        "colab_type": "text"
      },
      "source": [
        "Enter number 4 as input and print stars \n"
      ]
    },
    {
      "cell_type": "code",
      "metadata": {
        "id": "vAa7cYfyrFbi",
        "colab_type": "code",
        "colab": {
          "base_uri": "https://localhost:8080/",
          "height": 86
        },
        "outputId": "410763b9-f6cb-4247-e6d6-6f912697c0ad"
      },
      "source": [
        "#2\n",
        "def pypart(n):  \n",
        "    for i in range(0, n): \n",
        "        for j in range(0, i+1): \n",
        "            print(\"* \",end=\"\") \n",
        "        print(\"\\r\") \n",
        "n = 4\n",
        "pypart(n) "
      ],
      "execution_count": null,
      "outputs": [
        {
          "output_type": "stream",
          "text": [
            "* \r\n",
            "* * \r\n",
            "* * * \r\n",
            "* * * * \r\n"
          ],
          "name": "stdout"
        }
      ]
    },
    {
      "cell_type": "markdown",
      "metadata": {
        "id": "V4o1GxThr27l",
        "colab_type": "text"
      },
      "source": [
        "Enter number 5 and print traingle\n"
      ]
    },
    {
      "cell_type": "code",
      "metadata": {
        "id": "pe-SN0k6r-Fw",
        "colab_type": "code",
        "colab": {
          "base_uri": "https://localhost:8080/",
          "height": 138
        },
        "outputId": "7a5cacab-a639-42b5-87e7-be7cdf7081b4"
      },
      "source": [
        "#3\n",
        "n=int(input(\"Enter the Number \"));\n",
        "for i in range(n+1):\n",
        "    for j in range(i,0,-1 ):\n",
        "        print (n-j+1 ,end=\" \")\n",
        "    print('')"
      ],
      "execution_count": null,
      "outputs": [
        {
          "output_type": "stream",
          "text": [
            "Enter the Number 5\n",
            "\n",
            "5 \n",
            "4 5 \n",
            "3 4 5 \n",
            "2 3 4 5 \n",
            "1 2 3 4 5 \n"
          ],
          "name": "stdout"
        }
      ]
    },
    {
      "cell_type": "markdown",
      "metadata": {
        "id": "I_SyJ8_nsK8k",
        "colab_type": "text"
      },
      "source": [
        "Enter number 5 and print triangle\n"
      ]
    },
    {
      "cell_type": "code",
      "metadata": {
        "id": "IwfaLB04sUNe",
        "colab_type": "code",
        "colab": {
          "base_uri": "https://localhost:8080/",
          "height": 138
        },
        "outputId": "546818e9-be49-4341-d7f5-66e613542e98"
      },
      "source": [
        "#4\n",
        "n=int(input(\"Enter the Number:\"));\n",
        "for i in range(0,n+1):\n",
        "    for j in range(n-i, 0, -1):\n",
        "        print (j , end=\" \")\n",
        "    print(' ')"
      ],
      "execution_count": null,
      "outputs": [
        {
          "output_type": "stream",
          "text": [
            "Enter the Number:5\n",
            "5 4 3 2 1  \n",
            "4 3 2 1  \n",
            "3 2 1  \n",
            "2 1  \n",
            "1  \n",
            " \n"
          ],
          "name": "stdout"
        }
      ]
    },
    {
      "cell_type": "markdown",
      "metadata": {
        "id": "i2TDa_QhsfEa",
        "colab_type": "text"
      },
      "source": [
        "Enter number 4\n"
      ]
    },
    {
      "cell_type": "code",
      "metadata": {
        "id": "OaUiUXFE5u8n",
        "colab_type": "code",
        "colab": {
          "base_uri": "https://localhost:8080/",
          "height": 172
        },
        "outputId": "c4d03bb8-fcb7-40cb-8f53-b2d0e1b4cb74"
      },
      "source": [
        "#5\n",
        "n=int(input(\"Enter the Number:\"));\n",
        "for i in range(0,n+1,1):\n",
        "    print(\"\")\n",
        "    for j in range(i+1,n+1,1):\n",
        "        print(j,end=\" \")\n",
        "    \n",
        "for i in range(1,n):\n",
        "    for j in range(i+1,0,-1):\n",
        "        print(n-j+1,end=\" \")\n",
        "    print('')\n"
      ],
      "execution_count": 77,
      "outputs": [
        {
          "output_type": "stream",
          "text": [
            "Enter the Number:4\n",
            "\n",
            "1 2 3 4 \n",
            "2 3 4 \n",
            "3 4 \n",
            "4 \n",
            "3 4 \n",
            "2 3 4 \n",
            "1 2 3 4 \n"
          ],
          "name": "stdout"
        }
      ]
    },
    {
      "cell_type": "markdown",
      "metadata": {
        "id": "_YveERD1sopN",
        "colab_type": "text"
      },
      "source": [
        "Find the length of a string without using len functions"
      ]
    },
    {
      "cell_type": "code",
      "metadata": {
        "id": "YmoEh5k8n1fY",
        "colab_type": "code",
        "colab": {
          "base_uri": "https://localhost:8080/",
          "height": 51
        },
        "outputId": "4999af52-9ca3-418d-f5d6-64193cbeeb7a"
      },
      "source": [
        "#6\n",
        "str = input(\"Enter a string: \")\n",
        "count = 0\n",
        "for s in str:\n",
        "      count = count+1\n",
        "print(\"Length of the input string is:\", count)"
      ],
      "execution_count": null,
      "outputs": [
        {
          "output_type": "stream",
          "text": [
            "Enter a string: Akshatha\n",
            "Length of the input string is: 8\n"
          ],
          "name": "stdout"
        }
      ]
    },
    {
      "cell_type": "markdown",
      "metadata": {
        "id": "pC55o4CzssW3",
        "colab_type": "text"
      },
      "source": [
        "Find the no of words and characters in a string\n",
        "\n",
        "\n"
      ]
    },
    {
      "cell_type": "code",
      "metadata": {
        "id": "k5qa1E4toFtt",
        "colab_type": "code",
        "colab": {
          "base_uri": "https://localhost:8080/",
          "height": 69
        },
        "outputId": "f6167970-be0e-4912-f8f5-c2fa53c49d23"
      },
      "source": [
        "#7\n",
        "string=input(\"Enter string:\")\n",
        "word=1\n",
        "for i in string:\n",
        "      if(i==' '):\n",
        "            word=word+1\n",
        "print(\"Number of words in the string:\")\n",
        "print(word)\n"
      ],
      "execution_count": null,
      "outputs": [
        {
          "output_type": "stream",
          "text": [
            "Enter string:It is what it is though we don't know what it is\n",
            "Number of words in the string:\n",
            "12\n"
          ],
          "name": "stdout"
        }
      ]
    },
    {
      "cell_type": "markdown",
      "metadata": {
        "id": "Q3Jx7-zBsy3o",
        "colab_type": "text"
      },
      "source": [
        "Find the no of occurrences of a word in a string"
      ]
    },
    {
      "cell_type": "code",
      "metadata": {
        "id": "rw3lXjuno6DW",
        "colab_type": "code",
        "colab": {
          "base_uri": "https://localhost:8080/",
          "height": 69
        },
        "outputId": "c4db4b24-1170-4d54-8734-de04c27fcd52"
      },
      "source": [
        "#8\n",
        "def countOccurences(str, word): \n",
        "    a = str.split(\" \") \n",
        "    count = 0\n",
        "    for i in range(0, len(a)): \n",
        "        if (word == a[i]): \n",
        "           count = count + 1\n",
        "    return count        \n",
        "str =input(\"Enter the sentence:\")\n",
        "word =input(\"Enter the word:\")\n",
        "print(\"The word is repeated:\",countOccurences(str, word),\"times\") "
      ],
      "execution_count": null,
      "outputs": [
        {
          "output_type": "stream",
          "text": [
            "Enter the sentence:It is what it is even though we don't know what it actually is\n",
            "Enter the word:is\n",
            "The word is repeated: 3 times\n"
          ],
          "name": "stdout"
        }
      ]
    }
  ]
}