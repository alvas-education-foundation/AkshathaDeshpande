{
  "nbformat": 4,
  "nbformat_minor": 0,
  "metadata": {
    "colab": {
      "name": "Day2_Session1_Examples.ipynb",
      "provenance": [],
      "authorship_tag": "ABX9TyMqCRlH01ZPgAhv+TC62B2m",
      "include_colab_link": true
    },
    "kernelspec": {
      "name": "python3",
      "display_name": "Python 3"
    }
  },
  "cells": [
    {
      "cell_type": "markdown",
      "metadata": {
        "id": "view-in-github",
        "colab_type": "text"
      },
      "source": [
        "<a href=\"https://colab.research.google.com/github/alvas-education-foundation/AkshathaDeshpande/blob/master/Day2_Session1_Examples.ipynb\" target=\"_parent\"><img src=\"https://colab.research.google.com/assets/colab-badge.svg\" alt=\"Open In Colab\"/></a>"
      ]
    },
    {
      "cell_type": "markdown",
      "metadata": {
        "id": "Z2hncUW8-RV7",
        "colab_type": "text"
      },
      "source": [
        "**LIST EXERCISES:**"
      ]
    },
    {
      "cell_type": "markdown",
      "metadata": {
        "id": "8Gwn89A5XokD",
        "colab_type": "text"
      },
      "source": [
        "print multiples of 3 upto 200 using a list"
      ]
    },
    {
      "cell_type": "code",
      "metadata": {
        "id": "-TA9LLfHXguv",
        "colab_type": "code",
        "colab": {
          "base_uri": "https://localhost:8080/",
          "height": 54
        },
        "outputId": "3e33212a-e392-4124-8453-0f2c4958f2a3"
      },
      "source": [
        "a=[]\n",
        "c=1\n",
        "for i in range(0,200):\n",
        "    m=3*c\n",
        "    if m<200:\n",
        "        a.append(m)\n",
        "        c=c+1\n",
        "print(a,end=\"\")"
      ],
      "execution_count": null,
      "outputs": [
        {
          "output_type": "stream",
          "text": [
            "[3, 6, 9, 12, 15, 18, 21, 24, 27, 30, 33, 36, 39, 42, 45, 48, 51, 54, 57, 60, 63, 66, 69, 72, 75, 78, 81, 84, 87, 90, 93, 96, 99, 102, 105, 108, 111, 114, 117, 120, 123, 126, 129, 132, 135, 138, 141, 144, 147, 150, 153, 156, 159, 162, 165, 168, 171, 174, 177, 180, 183, 186, 189, 192, 195, 198]"
          ],
          "name": "stdout"
        }
      ]
    },
    {
      "cell_type": "code",
      "metadata": {
        "id": "JCQo1nIBcJYA",
        "colab_type": "code",
        "colab": {
          "base_uri": "https://localhost:8080/",
          "height": 86
        },
        "outputId": "551ebe11-9bc9-44d3-b9f6-ecde11de0eaf"
      },
      "source": [
        "#The above program can also be written using numpy\n",
        "import numpy as np\n",
        "x = np.arange(1,200)\n",
        "n= x[(x % 3 == 0)]\n",
        "print(n[:200])"
      ],
      "execution_count": null,
      "outputs": [
        {
          "output_type": "stream",
          "text": [
            "[  3   6   9  12  15  18  21  24  27  30  33  36  39  42  45  48  51  54\n",
            "  57  60  63  66  69  72  75  78  81  84  87  90  93  96  99 102 105 108\n",
            " 111 114 117 120 123 126 129 132 135 138 141 144 147 150 153 156 159 162\n",
            " 165 168 171 174 177 180 183 186 189 192 195 198]\n"
          ],
          "name": "stdout"
        }
      ]
    },
    {
      "cell_type": "markdown",
      "metadata": {
        "id": "swRwazndcynF",
        "colab_type": "text"
      },
      "source": [
        "print the nos only divisable by 5 and 7 between 1000 and 2000 using a list( both inclusive)"
      ]
    },
    {
      "cell_type": "code",
      "metadata": {
        "id": "DWJy4MJJc2R2",
        "colab_type": "code",
        "colab": {
          "base_uri": "https://localhost:8080/",
          "height": 89
        },
        "outputId": "8508aeb1-517e-4acc-cd69-80fb37ca7439"
      },
      "source": [
        "a=[]\n",
        "b=[]\n",
        "for i in range(1000,2000):\n",
        "    if i%5==0:\n",
        "        a.append(i)\n",
        "    if i%7==0:\n",
        "        b.append(i)\n",
        "print(\"The numbers which are divisible by 5 are:\",a,end=\"\")\n",
        "print(\"\\n\")\n",
        "print(\"The numbers which are divisible by 7 are:\",b,end=\"\")"
      ],
      "execution_count": null,
      "outputs": [
        {
          "output_type": "stream",
          "text": [
            "The numbers which are divisible by 5 are: [1000, 1005, 1010, 1015, 1020, 1025, 1030, 1035, 1040, 1045, 1050, 1055, 1060, 1065, 1070, 1075, 1080, 1085, 1090, 1095, 1100, 1105, 1110, 1115, 1120, 1125, 1130, 1135, 1140, 1145, 1150, 1155, 1160, 1165, 1170, 1175, 1180, 1185, 1190, 1195, 1200, 1205, 1210, 1215, 1220, 1225, 1230, 1235, 1240, 1245, 1250, 1255, 1260, 1265, 1270, 1275, 1280, 1285, 1290, 1295, 1300, 1305, 1310, 1315, 1320, 1325, 1330, 1335, 1340, 1345, 1350, 1355, 1360, 1365, 1370, 1375, 1380, 1385, 1390, 1395, 1400, 1405, 1410, 1415, 1420, 1425, 1430, 1435, 1440, 1445, 1450, 1455, 1460, 1465, 1470, 1475, 1480, 1485, 1490, 1495, 1500, 1505, 1510, 1515, 1520, 1525, 1530, 1535, 1540, 1545, 1550, 1555, 1560, 1565, 1570, 1575, 1580, 1585, 1590, 1595, 1600, 1605, 1610, 1615, 1620, 1625, 1630, 1635, 1640, 1645, 1650, 1655, 1660, 1665, 1670, 1675, 1680, 1685, 1690, 1695, 1700, 1705, 1710, 1715, 1720, 1725, 1730, 1735, 1740, 1745, 1750, 1755, 1760, 1765, 1770, 1775, 1780, 1785, 1790, 1795, 1800, 1805, 1810, 1815, 1820, 1825, 1830, 1835, 1840, 1845, 1850, 1855, 1860, 1865, 1870, 1875, 1880, 1885, 1890, 1895, 1900, 1905, 1910, 1915, 1920, 1925, 1930, 1935, 1940, 1945, 1950, 1955, 1960, 1965, 1970, 1975, 1980, 1985, 1990, 1995]\n",
            "\n",
            "The numbers which are divisible by 7 are: [1001, 1008, 1015, 1022, 1029, 1036, 1043, 1050, 1057, 1064, 1071, 1078, 1085, 1092, 1099, 1106, 1113, 1120, 1127, 1134, 1141, 1148, 1155, 1162, 1169, 1176, 1183, 1190, 1197, 1204, 1211, 1218, 1225, 1232, 1239, 1246, 1253, 1260, 1267, 1274, 1281, 1288, 1295, 1302, 1309, 1316, 1323, 1330, 1337, 1344, 1351, 1358, 1365, 1372, 1379, 1386, 1393, 1400, 1407, 1414, 1421, 1428, 1435, 1442, 1449, 1456, 1463, 1470, 1477, 1484, 1491, 1498, 1505, 1512, 1519, 1526, 1533, 1540, 1547, 1554, 1561, 1568, 1575, 1582, 1589, 1596, 1603, 1610, 1617, 1624, 1631, 1638, 1645, 1652, 1659, 1666, 1673, 1680, 1687, 1694, 1701, 1708, 1715, 1722, 1729, 1736, 1743, 1750, 1757, 1764, 1771, 1778, 1785, 1792, 1799, 1806, 1813, 1820, 1827, 1834, 1841, 1848, 1855, 1862, 1869, 1876, 1883, 1890, 1897, 1904, 1911, 1918, 1925, 1932, 1939, 1946, 1953, 1960, 1967, 1974, 1981, 1988, 1995]"
          ],
          "name": "stdout"
        }
      ]
    },
    {
      "cell_type": "markdown",
      "metadata": {
        "id": "huWIrFdXXmfn",
        "colab_type": "text"
      },
      "source": [
        "Add the n number of names in a list and print them alphabetically and reverse alphabetically."
      ]
    },
    {
      "cell_type": "code",
      "metadata": {
        "id": "v3LqQvFLfV-U",
        "colab_type": "code",
        "colab": {
          "base_uri": "https://localhost:8080/",
          "height": 201
        },
        "outputId": "6d0e3b15-f470-40fc-8417-468648d162ca"
      },
      "source": [
        "my_str = input(\"Enter a string: \")\n",
        "\n",
        "# breakdown the string into a list of words\n",
        "words = my_str.split()\n",
        "\n",
        "# sort the list\n",
        "words.sort()\n",
        "\n",
        "# display the sorted words\n",
        "\n",
        "print(\"The sorted words are:\")\n",
        "for word in words:\n",
        "   print(word)\n",
        "\n",
        "#reverse the words in list\n",
        "words.reverse()\n",
        "\n",
        "#display the reversed words\n",
        "print(\"The reverse words are:\")\n",
        "for wor in words:\n",
        "   print(wor)\n"
      ],
      "execution_count": 69,
      "outputs": [
        {
          "output_type": "stream",
          "text": [
            "Enter a string: Akshu Ani Swetha Mahesh \n",
            "The sorted words are:\n",
            "Akshu\n",
            "Ani\n",
            "Mahesh\n",
            "Swetha\n",
            "The reverse words are:\n",
            "Swetha\n",
            "Mahesh\n",
            "Ani\n",
            "Akshu\n"
          ],
          "name": "stdout"
        }
      ]
    },
    {
      "cell_type": "markdown",
      "metadata": {
        "id": "MjTp8vACxf97",
        "colab_type": "text"
      },
      "source": [
        "Print  perfect squares and divisible by 5 between 500 and 1000( (both inclusive) using list"
      ]
    },
    {
      "cell_type": "code",
      "metadata": {
        "id": "RS1LY-ytxdhA",
        "colab_type": "code",
        "colab": {
          "base_uri": "https://localhost:8080/",
          "height": 121
        },
        "outputId": "08461442-df10-4c12-9ca7-7871ffd7c2ed"
      },
      "source": [
        "a=[]\n",
        "b=[]\n",
        "c=[]\n",
        "import math\n",
        "for i in range(500,1000):\n",
        "    sr = math.sqrt(i)\n",
        "    if sr-math.floor(sr)==0:\n",
        "        a.append(i)\n",
        "        b.append(sr)\n",
        "    if i%5==0:\n",
        "        c.append(i)\n",
        "print(\"Perfect squares in the given range are:\",a,end=\" \")\n",
        "print(\"\\n\")\n",
        "print(\"Squares of above numbers are:\",b,end=\" \")\n",
        "print(\"\\n\")\n",
        "print(\"Numbers which are divisible by 5 are:\",c,end=\" \")"
      ],
      "execution_count": 61,
      "outputs": [
        {
          "output_type": "stream",
          "text": [
            "Perfect squares in the given range are: [529, 576, 625, 676, 729, 784, 841, 900, 961] \n",
            "\n",
            "Squares of above numbers are: [23.0, 24.0, 25.0, 26.0, 27.0, 28.0, 29.0, 30.0, 31.0] \n",
            "\n",
            "Numbers which are divisible by 5 are: [500, 505, 510, 515, 520, 525, 530, 535, 540, 545, 550, 555, 560, 565, 570, 575, 580, 585, 590, 595, 600, 605, 610, 615, 620, 625, 630, 635, 640, 645, 650, 655, 660, 665, 670, 675, 680, 685, 690, 695, 700, 705, 710, 715, 720, 725, 730, 735, 740, 745, 750, 755, 760, 765, 770, 775, 780, 785, 790, 795, 800, 805, 810, 815, 820, 825, 830, 835, 840, 845, 850, 855, 860, 865, 870, 875, 880, 885, 890, 895, 900, 905, 910, 915, 920, 925, 930, 935, 940, 945, 950, 955, 960, 965, 970, 975, 980, 985, 990, 995] "
          ],
          "name": "stdout"
        }
      ]
    },
    {
      "cell_type": "markdown",
      "metadata": {
        "id": "OiSuDzoh1mq_",
        "colab_type": "text"
      },
      "source": [
        "Calculate the Average of  the numbers in a List by getting the elements of list from keyboard "
      ]
    },
    {
      "cell_type": "code",
      "metadata": {
        "id": "tRvlubSV1qJP",
        "colab_type": "code",
        "colab": {
          "base_uri": "https://localhost:8080/",
          "height": 117
        },
        "outputId": "045dd88c-9642-4a93-fdba-0a82b00e4038"
      },
      "source": [
        "n=int(input(\"Enter the number of elements to be inserted: \"))\n",
        "a=[]\n",
        "for i in range(0,n):\n",
        "    p=int(input(\"Enter element: \"))\n",
        "    a.append(p)\n",
        "avg=sum(a)/n\n",
        "print(\"Average of elements in the list\",round(avg,3))"
      ],
      "execution_count": 63,
      "outputs": [
        {
          "output_type": "stream",
          "text": [
            "Enter the number of elements to be inserted: 4\n",
            "Enter element: 10\n",
            "Enter element: 20\n",
            "Enter element: 5\n",
            "Enter element: 5\n",
            "Average of elements in the list 10.0\n"
          ],
          "name": "stdout"
        }
      ]
    },
    {
      "cell_type": "markdown",
      "metadata": {
        "id": "haT7MByr29CC",
        "colab_type": "text"
      },
      "source": [
        "Print lists of odd,even and multiples of 5 numbers from 1 to 1000 using list comprehension"
      ]
    },
    {
      "cell_type": "code",
      "metadata": {
        "id": "sgTVIlJN3Avk",
        "colab_type": "code",
        "colab": {
          "base_uri": "https://localhost:8080/",
          "height": 50
        },
        "outputId": "64938915-7db4-499d-e467-d95e172574df"
      },
      "source": [
        "list1 = [9,2,4,5,8,7,21,67,96] \n",
        "even_nos = [num for num in list1 if num % 2 == 0] \n",
        "print(\"Even numbers in the list: \", even_nos)\n",
        "odd_nos = [num for num in list1 if num % 2 != 0] \n",
        "print(\"Odd numbers in the list: \", odd_nos)"
      ],
      "execution_count": 36,
      "outputs": [
        {
          "output_type": "stream",
          "text": [
            "Even numbers in the list:  [2, 4, 8, 96]\n",
            "Odd numbers in the list:  [9, 5, 7, 21, 67]\n"
          ],
          "name": "stdout"
        }
      ]
    },
    {
      "cell_type": "markdown",
      "metadata": {
        "id": "7gA6-qkeKnpr",
        "colab_type": "text"
      },
      "source": [
        "**TUPLE EXERCISES**"
      ]
    },
    {
      "cell_type": "markdown",
      "metadata": {
        "id": "KiIj7NIzKfPU",
        "colab_type": "text"
      },
      "source": [
        "Python Program to Create a List of Tuples with the First Element as the Number and Second Element as the Square of the Number "
      ]
    },
    {
      "cell_type": "code",
      "metadata": {
        "id": "v2o3F0GqKeS4",
        "colab_type": "code",
        "colab": {
          "base_uri": "https://localhost:8080/",
          "height": 117
        },
        "outputId": "c66b0389-a46a-4dc4-dea4-ff49391b4b70"
      },
      "source": [
        "t = [ ]\n",
        "n=int(input(\"enter the number of tuples:\"))\n",
        "for i in range(0,n):\n",
        "    e=int(input(\"Enter the number:\"))\n",
        "    t.append((e, e*e))\n",
        "print(t)"
      ],
      "execution_count": 68,
      "outputs": [
        {
          "output_type": "stream",
          "text": [
            "enter the number of tuples:4\n",
            "Enter the number:2\n",
            "Enter the number:4\n",
            "Enter the number:6\n",
            "Enter the number:8\n",
            "[(2, 4), (4, 16), (6, 36), (8, 64)]\n"
          ],
          "name": "stdout"
        }
      ]
    },
    {
      "cell_type": "markdown",
      "metadata": {
        "id": "TcnQbrgqMhaU",
        "colab_type": "text"
      },
      "source": [
        "Write python program to have a list of words  to sort them from  shortest to longest using list of tuples"
      ]
    },
    {
      "cell_type": "code",
      "metadata": {
        "id": "jNCfm5KgMk9Z",
        "colab_type": "code",
        "colab": {
          "base_uri": "https://localhost:8080/",
          "height": 33
        },
        "outputId": "07eeaff0-4613-47ce-8217-db3e50f0ad82"
      },
      "source": [
        "def Sort_Tuple(tup):  \n",
        "    tup.sort(key = lambda x: x[1])  \n",
        "    return tup  \n",
        "tup = [('rishav', 10), ('akash', 5), ('ram', 20), ('gaurav', 15)]  \n",
        "print(Sort_Tuple(tup))"
      ],
      "execution_count": 1,
      "outputs": [
        {
          "output_type": "stream",
          "text": [
            "[('akash', 5), ('rishav', 10), ('gaurav', 15), ('ram', 20)]\n"
          ],
          "name": "stdout"
        }
      ]
    },
    {
      "cell_type": "markdown",
      "metadata": {
        "id": "amppjs5rNtEE",
        "colab_type": "text"
      },
      "source": [
        "Write python program to get a list of tuples of Rollno,Name for 5 students through keyboard and sort them Rollno wise ascending order"
      ]
    },
    {
      "cell_type": "code",
      "metadata": {
        "id": "Gh8QD2SdNyxO",
        "colab_type": "code",
        "colab": {
          "base_uri": "https://localhost:8080/",
          "height": 184
        },
        "outputId": "550a4546-bdc5-4d55-d6c6-05b3b22b07ea"
      },
      "source": [
        "def Sort_Tuple(tup):  \n",
        "    lst = len(tup)  \n",
        "    for i in range(0, lst):  \n",
        "        for j in range(0, lst-i-1):  \n",
        "            if (tup[j][1] > tup[j + 1][1]):  \n",
        "                temp = tup[j]  \n",
        "                tup[j]= tup[j + 1]  \n",
        "                tup[j + 1]= temp \n",
        "    return tup\n",
        "tup =[]\n",
        "num = int(input(\"Number of students:\"))\n",
        "for i in range(0,num):\n",
        "     name = input(\" Name of student: \")\n",
        "     rollnum = input(\"Roll num of the student:\")\n",
        "     tup.append((name,rollnum))\n",
        "print(Sort_Tuple(tup))"
      ],
      "execution_count": 29,
      "outputs": [
        {
          "output_type": "stream",
          "text": [
            "Number of students:4\n",
            " Name of student: Hermoine\n",
            "Roll num of the student:7\n",
            " Name of student: Harry\n",
            "Roll num of the student:1\n",
            " Name of student: Ron \n",
            "Roll num of the student:5\n",
            " Name of student: dark lord\n",
            "Roll num of the student:0\n",
            "[('dark lord', '0'), ('Harry', '1'), ('Ron ', '5'), ('Hermoine', '7')]\n"
          ],
          "name": "stdout"
        }
      ]
    },
    {
      "cell_type": "markdown",
      "metadata": {
        "id": "l8WEG8B848n7",
        "colab_type": "text"
      },
      "source": [
        "Write python program to get a list of tuples of Rollno,Name for 5 students through keyboard and sort them Rollno wise descending order"
      ]
    },
    {
      "cell_type": "code",
      "metadata": {
        "id": "ns358xGV477H",
        "colab_type": "code",
        "colab": {
          "base_uri": "https://localhost:8080/",
          "height": 184
        },
        "outputId": "1ba4db78-d3ee-4f79-daf6-0ba29e47ddb6"
      },
      "source": [
        "def Sort_Tuple(tup):  \n",
        "    lst = len(tup)  \n",
        "    for i in range(0, lst):  \n",
        "        for j in range(0, lst-i-1):  \n",
        "            if (tup[j][1]<tup[j + 1][1]):  \n",
        "                temp = tup[j]  \n",
        "                tup[j]= tup[j + 1]  \n",
        "                tup[j + 1]= temp \n",
        "    return tup\n",
        "tup =[]\n",
        "num = int(input(\"Number of students:\"))\n",
        "for i in range(0,num):\n",
        "     name = input(\" Name of student: \")\n",
        "     rollnum = input(\"Roll num of the student:\")\n",
        "     tup.append((name,rollnum))\n",
        "print(Sort_Tuple(tup))"
      ],
      "execution_count": 30,
      "outputs": [
        {
          "output_type": "stream",
          "text": [
            "Number of students:4\n",
            " Name of student: bts\n",
            "Roll num of the student:5\n",
            " Name of student: fifa\n",
            "Roll num of the student:3\n",
            " Name of student: liverpool\n",
            "Roll num of the student:7\n",
            " Name of student: nani\n",
            "Roll num of the student:2\n",
            "[('liverpool', '7'), ('bts', '5'), ('fifa', '3'), ('nani', '2')]\n"
          ],
          "name": "stdout"
        }
      ]
    },
    {
      "cell_type": "markdown",
      "metadata": {
        "id": "GuUq02qQ8_z-",
        "colab_type": "text"
      },
      "source": [
        "Write python program to get a list of tuples of Rollno,Name for 5 students through keyboard and sort them by Name wise ascending order"
      ]
    },
    {
      "cell_type": "code",
      "metadata": {
        "id": "kEyLBn8B7kX8",
        "colab_type": "code",
        "colab": {
          "base_uri": "https://localhost:8080/",
          "height": 184
        },
        "outputId": "cddec872-fb63-4aa1-b6ae-9f198a5276ce"
      },
      "source": [
        "def Sort_Tuple(tup):  \n",
        "    lst = len(tup)  \n",
        "    for i in range(0, lst):  \n",
        "        for j in range(0, lst-i-1):  \n",
        "            if (tup[j][0] > tup[j + 1][0]):  \n",
        "                temp = tup[j]  \n",
        "                tup[j]= tup[j + 1]  \n",
        "                tup[j + 1]= temp \n",
        "    return tup\n",
        "tup =[]\n",
        "num = int(input(\"Number of students:\"))\n",
        "for i in range(0,num):\n",
        "     name = input(\" Name of student: \")\n",
        "     rollnum = input(\"Roll num of the student:\")\n",
        "     tup.append((name,rollnum))\n",
        "print(Sort_Tuple(tup))"
      ],
      "execution_count": 33,
      "outputs": [
        {
          "output_type": "stream",
          "text": [
            "Number of students:4\n",
            " Name of student: jinny\n",
            "Roll num of the student:4\n",
            " Name of student: draco\n",
            "Roll num of the student:2\n",
            " Name of student: madeye\n",
            "Roll num of the student:9\n",
            " Name of student: dobby\n",
            "Roll num of the student:1\n",
            "[('dobby', '1'), ('draco', '2'), ('jinny', '4'), ('madeye', '9')]\n"
          ],
          "name": "stdout"
        }
      ]
    },
    {
      "cell_type": "markdown",
      "metadata": {
        "id": "nUD0jeNv8V_n",
        "colab_type": "text"
      },
      "source": [
        "Write python program to get a list of tuples of Rollno,Name for 5 students through keyboard and sort them by Name wise descending order\n",
        "\n"
      ]
    },
    {
      "cell_type": "code",
      "metadata": {
        "id": "9ED7BOgq8Wcr",
        "colab_type": "code",
        "colab": {
          "base_uri": "https://localhost:8080/",
          "height": 184
        },
        "outputId": "39e497dd-a5a9-4888-b044-09afc918e13e"
      },
      "source": [
        "def Sort_Tuple(tup):  \n",
        "    lst = len(tup)  \n",
        "    for i in range(0, lst):  \n",
        "        for j in range(0, lst-i-1):  \n",
        "            if (tup[j][0] < tup[j + 1][0]):  \n",
        "                temp = tup[j]  \n",
        "                tup[j]= tup[j + 1]  \n",
        "                tup[j + 1]= temp \n",
        "    return tup\n",
        "tup =[]\n",
        "num = int(input(\"Number of students:\"))\n",
        "for i in range(0,num):\n",
        "     name = input(\" Name of student: \")\n",
        "     rollnum = input(\"Roll num of the student:\")\n",
        "     tup.append((name,rollnum))\n",
        "print(Sort_Tuple(tup))"
      ],
      "execution_count": 34,
      "outputs": [
        {
          "output_type": "stream",
          "text": [
            "Number of students:4\n",
            " Name of student: cedric\n",
            "Roll num of the student:3\n",
            " Name of student: dumbledore\n",
            "Roll num of the student:9\n",
            " Name of student: zebra\n",
            "Roll num of the student:3\n",
            " Name of student: sirius\n",
            "Roll num of the student:2\n",
            "[('zebra', '3'), ('sirius', '2'), ('dumbledore', '9'), ('cedric', '3')]\n"
          ],
          "name": "stdout"
        }
      ]
    }
  ]
}