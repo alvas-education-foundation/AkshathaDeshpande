{
  "nbformat": 4,
  "nbformat_minor": 0,
  "metadata": {
    "colab": {
      "name": "Day-1 Session-1.ipynb",
      "provenance": [],
      "collapsed_sections": [],
      "authorship_tag": "ABX9TyPqkP0qthtOTX6z3wZ7lfeq",
      "include_colab_link": true
    },
    "kernelspec": {
      "name": "python3",
      "display_name": "Python 3"
    }
  },
  "cells": [
    {
      "cell_type": "markdown",
      "metadata": {
        "id": "view-in-github",
        "colab_type": "text"
      },
      "source": [
        "<a href=\"https://colab.research.google.com/github/alvas-education-foundation/AkshathaDeshpande/blob/master/Day_1_Session_1.ipynb\" target=\"_parent\"><img src=\"https://colab.research.google.com/assets/colab-badge.svg\" alt=\"Open In Colab\"/></a>"
      ]
    },
    {
      "cell_type": "markdown",
      "metadata": {
        "id": "ImWz-pAslsYZ",
        "colab_type": "text"
      },
      "source": [
        "1.\tFind the compound interest for the given p,t,r\n"
      ]
    },
    {
      "cell_type": "code",
      "metadata": {
        "id": "CfAKUpFWl3IC",
        "colab_type": "code",
        "colab": {
          "base_uri": "https://localhost:8080/",
          "height": 86
        },
        "outputId": "48e51c61-c9ba-4a1e-8551-0761657ca020"
      },
      "source": [
        "p = float(input(\"Enter the principle amount : \"))\n",
        "r = float(input(\"Enter the rate of interest : \"))\n",
        "t = float(input(\"Enter the time in the years: \"))\n",
        "ci =  p * (pow((1 + r / 100), t)) \n",
        "print(\"Compound Interest : \", ci)"
      ],
      "execution_count": 1,
      "outputs": [
        {
          "output_type": "stream",
          "text": [
            "Enter the principle amount : 3000\n",
            "Enter the rate of interest : 2.5\n",
            "Enter the time in the years: 4\n",
            "Compound Interest :  3311.438671874999\n"
          ],
          "name": "stdout"
        }
      ]
    },
    {
      "cell_type": "markdown",
      "metadata": {
        "id": "cQ8ePJGM24mZ",
        "colab_type": "text"
      },
      "source": [
        "2.\tConvert centegrade to farenheit "
      ]
    },
    {
      "cell_type": "code",
      "metadata": {
        "id": "kfmbf_pxm93f",
        "colab_type": "code",
        "colab": {
          "base_uri": "https://localhost:8080/",
          "height": 51
        },
        "outputId": "e34c53bb-c5f2-47ae-8661-bb306db9b156"
      },
      "source": [
        "celsius = float(input(\"Enter temperature in celsius:\"))\n",
        "fahrenheit = (celsius * 9/5) + 32\n",
        "print(('After Conversion of {0} celsius to fahrenheit is {1}').format(celsius,fahrenheit))"
      ],
      "execution_count": null,
      "outputs": [
        {
          "output_type": "stream",
          "text": [
            "Enter temperature in celsius:26\n",
            "After Conversion of 26.0 celsius to fahrenheit is 78.8\n"
          ],
          "name": "stdout"
        }
      ]
    },
    {
      "cell_type": "markdown",
      "metadata": {
        "id": "5SYZgs0BoiFT",
        "colab_type": "text"
      },
      "source": [
        "3.\tFind the greater of two nos "
      ]
    },
    {
      "cell_type": "code",
      "metadata": {
        "id": "bNLxRCssolxS",
        "colab_type": "code",
        "colab": {
          "base_uri": "https://localhost:8080/",
          "height": 172
        },
        "outputId": "a10a55f3-01e0-4f2f-97cc-39d9a921c7f4"
      },
      "source": [
        "i=0\n",
        "for i in range(0,3):\n",
        "  a = int(input('Enter a value:'))\n",
        "  b = int(input('Enter b value:'))\n",
        "  if a>b:\n",
        "      print('{0} is greater than {1}'.format(a,b))\n",
        "  elif b>a:\n",
        "      print(\"{0} is greater than {1}\".format(b,a))\n",
        "  else:\n",
        "      print(\"Both the numbers are equal\")"
      ],
      "execution_count": null,
      "outputs": [
        {
          "output_type": "stream",
          "text": [
            "Enter a value:3\n",
            "Enter b value:4\n",
            "4 is greater than 3\n",
            "Enter a value:9\n",
            "Enter b value:2\n",
            "9 is greater than 2\n",
            "Enter a value:8\n",
            "Enter b value:8\n",
            "Both the numbers are equal\n"
          ],
          "name": "stdout"
        }
      ]
    },
    {
      "cell_type": "markdown",
      "metadata": {
        "id": "dQ8AaX2RqQma",
        "colab_type": "text"
      },
      "source": [
        "4.\tWrite a program for finding surface areas of cylinder and cone (2*PI*r*r*h, 1/3*PI*r*r*h) using function"
      ]
    },
    {
      "cell_type": "code",
      "metadata": {
        "id": "yKV_PeUjqVjV",
        "colab_type": "code",
        "colab": {
          "base_uri": "https://localhost:8080/",
          "height": 86
        },
        "outputId": "b5945624-866b-4fe6-bbb0-e09759fb2e7f"
      },
      "source": [
        "import math \n",
        "pi = math.pi \n",
        "def Cylinder(r, h): \n",
        "\treturn 2 * pi * r * r * h \n",
        "def Cone(r, h): \n",
        "\treturn (1 / 3) * pi * r * r * h \n",
        "radius = float(input(\"Enter the radius:\"))\n",
        "height = float(input(\"Enter the height:\"))\n",
        "print( \"Surface Area Of Cylinder : \", Cylinder(radius, height) ) \n",
        "print( \"Surface Area Of Cone : \", Cone(radius,height) )"
      ],
      "execution_count": null,
      "outputs": [
        {
          "output_type": "stream",
          "text": [
            "Enter the radius:2\n",
            "Enter the height:5\n",
            "Surface Area Of Cylinder :  125.66370614359172\n",
            "Surface Area Of Cone :  20.94395102393195\n"
          ],
          "name": "stdout"
        }
      ]
    },
    {
      "cell_type": "markdown",
      "metadata": {
        "id": "Qd1eQPPGuNI-",
        "colab_type": "text"
      },
      "source": [
        "5.\tFind the greatest of four nos ( using ‘and’ operator) using function."
      ]
    },
    {
      "cell_type": "code",
      "metadata": {
        "id": "x-JrmJFYuKUY",
        "colab_type": "code",
        "colab": {
          "base_uri": "https://localhost:8080/",
          "height": 103
        },
        "outputId": "f6793b6c-47e6-4418-b5e4-bea00baa0525"
      },
      "source": [
        "n1 = input(\"Enter the first number \")\n",
        "n2 = input(\"Enter the second number \")\n",
        "n3 = input(\"Enter the third number \")\n",
        "n4 = input(\"Enter the fourth number \")\n",
        "maxi = (n1 if (n1 > n2 and n1 > n2 and n1 > n4)  \n",
        "         else (n2 if (n2 > n3 and n3 > n4)  \n",
        "         else (n3 if n3 > n4 else n4))) \n",
        "print(\"Largest number among \" + str(n1) + \", \" + str(n2) + \", \" + str(n3) + \" and \" + str(n4) + \" is \" + str(maxi))"
      ],
      "execution_count": null,
      "outputs": [
        {
          "output_type": "stream",
          "text": [
            "Enter the first number 3\n",
            "Enter the second number 4\n",
            "Enter the third number 3\n",
            "Enter the fourth number 8\n",
            "Largest number among 3, 4, 3 and 8 is 8\n"
          ],
          "name": "stdout"
        }
      ]
    },
    {
      "cell_type": "markdown",
      "metadata": {
        "id": "qaPrSu-_y7tj",
        "colab_type": "text"
      },
      "source": [
        "6.\tWrite a  menu program to perform the operations ( ODDorEven, Factorial, ODDNoUptoN, PrimeUptoN ) using functions for two nos with  menu choice"
      ]
    },
    {
      "cell_type": "code",
      "metadata": {
        "id": "Pt-uCybAvgCM",
        "colab_type": "code",
        "colab": {
          "base_uri": "https://localhost:8080/",
          "height": 1000
        },
        "outputId": "1a81bd85-864b-400f-ca25-1000d50f5c50"
      },
      "source": [
        "loop = 1 \n",
        "choice = 0 \n",
        "def oddoreven():\n",
        "    num = int(input(\"Enter a number: \"))\n",
        "    if (num % 2) == 0:\n",
        "      print(\"{0} is Even\".format(num))\n",
        "    else:\n",
        "      print(\"{0} is Odd\".format(num)) \n",
        "def factorial():\n",
        "  num = int(input(\"enter the number\"))\n",
        "  factorial = 1\n",
        "  if num < 0:\n",
        "    print(\"Sorry, factorial does not exist for negative numbers\")\n",
        "  elif num == 0:\n",
        "    print(\"The factorial of 0 is 1\")\n",
        "  else:\n",
        "    for i in range(1,num + 1):\n",
        "      factorial = factorial*i\n",
        "      print(\"The factorial of\",num,\"is\",factorial)\n",
        "def oddtilln():\n",
        "    maximum = int(input(\" Please Enter any Maximum Value : \"))\n",
        "    for number in range(1, maximum + 1):\n",
        "     if(number % 2 != 0):\n",
        "        print(\"{0}\".format(number),end=\",\")\n",
        "    print(\"\\n\")\n",
        "def primetilln():\n",
        "    upto = int(input(\"Find prime numbers upto : \"))\n",
        "    print(\"\\nAll prime numbers upto\", upto, \"are : \")\n",
        "    for num in range(2, upto + 1):\n",
        "      i = 2\n",
        "      for i in range(2, num):\n",
        "        if(num % i == 0):\n",
        "            i = num\n",
        "            break;\n",
        "    # If the number is prime then print it.\n",
        "      if(i != num):\n",
        "        print(num, end=\" \")\n",
        "    print(\"\\n\")\n",
        "while loop == 1:\n",
        "    # Print what options you have\n",
        "    print (\"Welcome to math program\")\n",
        "    print (\"your options are:\")\n",
        "    print (\" \")\n",
        "    print(\"1) ODD or Even\")\n",
        "    print(\"2) Factorial\")\n",
        "    print(\"3) Odd number upto n \")\n",
        "    print(\"4) Prime number upto n \")\n",
        "    print(\"5) Quit the program\")\n",
        "    print(\" \")\n",
        "    try:\n",
        "        choice = int(input(\"Choose your option: \"))\n",
        "    except:\n",
        "        print('please enter a valid number for option')\n",
        "    print(\" \")\n",
        "    print(\" \")\n",
        "    if choice == 1:\n",
        "        oddoreven()\n",
        "    elif choice == 2:\n",
        "        factorial() \n",
        "    elif choice == 3:\n",
        "        oddtilln()\n",
        "    elif choice == 4:\n",
        "         primetilln()\n",
        "    elif choice == 5:\n",
        "        loop = 0\n",
        "    else:\n",
        "        print(\"please choice a valid option from 1 to 5\")\n",
        "        choice=0\n",
        "print (\"Thank-you for using math program\")"
      ],
      "execution_count": null,
      "outputs": [
        {
          "output_type": "stream",
          "text": [
            "Welcome to math program\n",
            "your options are:\n",
            " \n",
            "1) ODD or Even\n",
            "2) Factorial\n",
            "3) Odd number upto n \n",
            "4) Prime number upto n \n",
            "5) Quit the program\n",
            " \n",
            "Choose your option: 1\n",
            " \n",
            " \n",
            "Enter a number: 3\n",
            "3 is Odd\n",
            "Welcome to math program\n",
            "your options are:\n",
            " \n",
            "1) ODD or Even\n",
            "2) Factorial\n",
            "3) Odd number upto n \n",
            "4) Prime number upto n \n",
            "5) Quit the program\n",
            " \n",
            "Choose your option: 2\n",
            " \n",
            " \n",
            "enter the number4\n",
            "The factorial of 4 is 1\n",
            "The factorial of 4 is 2\n",
            "The factorial of 4 is 6\n",
            "The factorial of 4 is 24\n",
            "Welcome to math program\n",
            "your options are:\n",
            " \n",
            "1) ODD or Even\n",
            "2) Factorial\n",
            "3) Odd number upto n \n",
            "4) Prime number upto n \n",
            "5) Quit the program\n",
            " \n",
            "Choose your option: 3\n",
            " \n",
            " \n",
            " Please Enter any Maximum Value : 20\n",
            "1,3,5,7,9,11,13,15,17,19,\n",
            "\n",
            "Welcome to math program\n",
            "your options are:\n",
            " \n",
            "1) ODD or Even\n",
            "2) Factorial\n",
            "3) Odd number upto n \n",
            "4) Prime number upto n \n",
            "5) Quit the program\n",
            " \n",
            "Choose your option: 4\n",
            " \n",
            " \n",
            "Find prime numbers upto : 10\n",
            "\n",
            "All prime numbers upto 10 are : \n",
            "3 5 7 \n",
            "\n",
            "Welcome to math program\n",
            "your options are:\n",
            " \n",
            "1) ODD or Even\n",
            "2) Factorial\n",
            "3) Odd number upto n \n",
            "4) Prime number upto n \n",
            "5) Quit the program\n",
            " \n",
            "Choose your option: 5\n",
            " \n",
            " \n",
            "Thank-you for using math program\n"
          ],
          "name": "stdout"
        }
      ]
    }
  ]
}