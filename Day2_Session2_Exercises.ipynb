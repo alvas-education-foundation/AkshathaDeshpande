{
  "nbformat": 4,
  "nbformat_minor": 0,
  "metadata": {
    "colab": {
      "name": "Day2_Session2_Exercises.ipynb",
      "provenance": [],
      "authorship_tag": "ABX9TyNS9KbxsPAk7U5RE8RuujBb",
      "include_colab_link": true
    },
    "kernelspec": {
      "name": "python3",
      "display_name": "Python 3"
    }
  },
  "cells": [
    {
      "cell_type": "markdown",
      "metadata": {
        "id": "view-in-github",
        "colab_type": "text"
      },
      "source": [
        "<a href=\"https://colab.research.google.com/github/alvas-education-foundation/AkshathaDeshpande/blob/master/Day2_Session2_Exercises.ipynb\" target=\"_parent\"><img src=\"https://colab.research.google.com/assets/colab-badge.svg\" alt=\"Open In Colab\"/></a>"
      ]
    },
    {
      "cell_type": "markdown",
      "metadata": {
        "id": "4MY04zq-YQW_",
        "colab_type": "text"
      },
      "source": [
        "**DICTIONARY EXAMPLES:**"
      ]
    },
    {
      "cell_type": "markdown",
      "metadata": {
        "id": "ml_OPhLkNlWd",
        "colab_type": "text"
      },
      "source": [
        "Add rollno and marks {name:mark} for n number of students through keyboard in a dictionary and print the marks in descending order with respective name."
      ]
    },
    {
      "cell_type": "code",
      "metadata": {
        "id": "71HokachNNM4",
        "colab_type": "code",
        "colab": {
          "base_uri": "https://localhost:8080/",
          "height": 117
        },
        "outputId": "f682696f-aeb0-4d8c-9e39-91c4caa049aa"
      },
      "source": [
        "import operator\n",
        "n=int(input(\"Enter no of students: \"))\n",
        "d={}\n",
        "for i in range(0,n):\n",
        "  name= input(\"Enter name: \")\n",
        "  mark=int(input(\"Enter mark: \"))\n",
        "  d[name]=mark\n",
        "sorted_a= sorted(d.items(),key=operator.itemgetter(1),reverse=True)\n",
        "print(\"Marks in descending order \",sorted_a)"
      ],
      "execution_count": 6,
      "outputs": [
        {
          "output_type": "stream",
          "text": [
            "Enter no of students: 2\n",
            "Enter name: Raja\n",
            "Enter mark: 39\n",
            "Enter name: Rani\n",
            "Enter mark: 50\n",
            "Marks in descending order  [('Rani', 50), ('Raja', 39)]\n"
          ],
          "name": "stdout"
        }
      ]
    },
    {
      "cell_type": "markdown",
      "metadata": {
        "id": "FfQ8z-aDNkj0",
        "colab_type": "text"
      },
      "source": [
        "Add name and salary {name:salary} for n number of employees through keyboard in a dictionary and print them in name alphabetical order with salary"
      ]
    },
    {
      "cell_type": "code",
      "metadata": {
        "id": "fAo2CpK0OYqO",
        "colab_type": "code",
        "colab": {
          "base_uri": "https://localhost:8080/",
          "height": 117
        },
        "outputId": "da6e59f6-cf05-462b-db76-bf9550f30d42"
      },
      "source": [
        "import operator\n",
        "n=int(input(\"Enter no of employees: \"))\n",
        "d={}\n",
        "for i in range(0,n):\n",
        "  name= input(\"Enter name: \")\n",
        "  sal=float(input(\"Enter salary: \"))\n",
        "  d[name]=sal\n",
        "sorted_a= sorted(d.items(),key=operator.itemgetter(0))\n",
        "print(\"Marks in descending order \",sorted_a)"
      ],
      "execution_count": 10,
      "outputs": [
        {
          "output_type": "stream",
          "text": [
            "Enter no of employees: 2\n",
            "Enter name: Meera\n",
            "Enter salary: 60000\n",
            "Enter name: Vidya\n",
            "Enter salary: 78000\n",
            "Marks in descending order  [('Meera', 60000.0), ('Vidya', 78000.0)]\n"
          ],
          "name": "stdout"
        }
      ]
    },
    {
      "cell_type": "markdown",
      "metadata": {
        "id": "4U2gfrzePrFH",
        "colab_type": "text"
      },
      "source": [
        "Add name and salary {name:salary} for n number of employees through keyboard in a dictionary and print them in salary ascending order and sum, max, min and average of the salaries"
      ]
    },
    {
      "cell_type": "code",
      "metadata": {
        "id": "3dVWTFu7Ps5S",
        "colab_type": "code",
        "colab": {
          "base_uri": "https://localhost:8080/",
          "height": 184
        },
        "outputId": "f5ee0021-f7fb-4352-d862-cb973fe3c846"
      },
      "source": [
        "import operator\n",
        "n=int(input(\"Enter no of employees: \"))\n",
        "d={}\n",
        "for i in range(0,n):\n",
        "  name= input(\"Enter name: \")\n",
        "  sal=float(input(\"Enter salary: \"))\n",
        "  d[name]=sal\n",
        "sorted_a= sorted(d.items(),key=operator.itemgetter(1))\n",
        "print(\"Sal in Ascending order:\",sorted_a)\n",
        "a = d.values()\n",
        "print(\"sum: \",sum(a))\n",
        "print(\"max: \",max(a))\n",
        "print(\"min: \",min(a))\n",
        "print(\"avg: \",(sum(a)/n))"
      ],
      "execution_count": 13,
      "outputs": [
        {
          "output_type": "stream",
          "text": [
            "Enter no of employees: 2\n",
            "Enter name: Akshu\n",
            "Enter salary: 50000\n",
            "Enter name: Radha\n",
            "Enter salary: 40000\n",
            "Sal in Ascending order: [('Radha', 40000.0), ('Akshu', 50000.0)]\n",
            "sum:  90000.0\n",
            "max:  50000.0\n",
            "min:  40000.0\n",
            "avg:  45000.0\n"
          ],
          "name": "stdout"
        }
      ]
    },
    {
      "cell_type": "markdown",
      "metadata": {
        "id": "IMblE0bYRXvB",
        "colab_type": "text"
      },
      "source": [
        "Add name and salary {name:salary} for n number of employees through keyboard in a dictionary and print only the employees whose salary is greater than 2000 but less than 4000"
      ]
    },
    {
      "cell_type": "code",
      "metadata": {
        "id": "-AZWGD32RY9x",
        "colab_type": "code",
        "colab": {
          "base_uri": "https://localhost:8080/",
          "height": 168
        },
        "outputId": "f4dfbe74-76d7-4f7f-83d2-a0b16b7218d1"
      },
      "source": [
        "import operator\n",
        "n=int(input(\"Enter no of employees:\"))\n",
        "d={}\n",
        "for i in range(1,n+1):\n",
        "  name= input(\"Enter name:\")\n",
        "  sal=int(input(\"Enter salary :\"))\n",
        "  d[name]=sal\n",
        "for key,value in d.items():\n",
        "    if value>=2000 and value<=4000:\n",
        "         print(\"In the given range:\",(d[key],key))"
      ],
      "execution_count": 18,
      "outputs": [
        {
          "output_type": "stream",
          "text": [
            "Enter no of employees:3\n",
            "Enter name:akshu\n",
            "Enter salary :3400\n",
            "Enter name:jiya\n",
            "Enter salary :2678\n",
            "Enter name:eera\n",
            "Enter salary :9090\n",
            "In the given range: (3400, 'akshu')\n",
            "In the given range: (2678, 'jiya')\n"
          ],
          "name": "stdout"
        }
      ]
    },
    {
      "cell_type": "markdown",
      "metadata": {
        "id": "H2yTYtxHRuE2",
        "colab_type": "text"
      },
      "source": [
        "Python program to convert a 3 digit number into words"
      ]
    },
    {
      "cell_type": "code",
      "metadata": {
        "id": "4wkbJvhpRs7U",
        "colab_type": "code",
        "colab": {
          "base_uri": "https://localhost:8080/",
          "height": 67
        },
        "outputId": "77061cf2-8d81-42b9-8bb1-bb57b1e21f72"
      },
      "source": [
        "def convert_to_words(num):  \n",
        "    l = len(num);    \n",
        "    if l == 0: \n",
        "        print(\"empty string\"); \n",
        "        return; \n",
        "  \n",
        "    if l > 4: \n",
        "        print(\"Length more than 4 is not supported\"); \n",
        "        return;   \n",
        "    single_digits = [\"zero\", \"one\", \"two\", \"three\",  \n",
        "                     \"four\", \"five\", \"six\", \"seven\",  \n",
        "                     \"eight\", \"nine\"];  \n",
        "    two_digits = [\"\", \"ten\", \"eleven\", \"twelve\",  \n",
        "                  \"thirteen\", \"fourteen\", \"fifteen\",  \n",
        "                  \"sixteen\", \"seventeen\", \"eighteen\", \n",
        "                  \"nineteen\"];  \n",
        "    tens_multiple = [\"\", \"\", \"twenty\", \"thirty\", \"forty\", \n",
        "                     \"fifty\", \"sixty\", \"seventy\", \"eighty\",  \n",
        "                     \"ninety\"]; \n",
        "    tens_power = [\"hundred\", \"thousand\"];   \n",
        "    print(num, \":\", end = \" \");   \n",
        "    if l == 1:  \n",
        "        print(single_digits[ord(num[0]) - '0']); \n",
        "        return;  \n",
        "    x = 0; \n",
        "    while x < len(num):    \n",
        "        if l >= 3: \n",
        "            if ord(num[x]) - 48 != 0: \n",
        "                print(single_digits[ord(num[x]) - 48], end = \" \"); \n",
        "                print(tens_power[l - 3], end = \" \");  \n",
        "                  \n",
        "            l -= 1; \n",
        "        else:   \n",
        "            if ord(num[x]) - 48 == 1:  \n",
        "                sum = (ord(num[x]) - 48 + \n",
        "                       ord(num[x]) - 48); \n",
        "                print(two_digits[sum]); \n",
        "                return;\n",
        "            elif ord(num[x]) - 48 == 2 and ord(num[x + 1]) - 48 == 0: \n",
        "                    print(\"twenty\"); \n",
        "                    return;  \n",
        "            else:\n",
        "                i = ord(num[x]) - 48; \n",
        "                if i > 0: \n",
        "                    print(tens_multiple[i], end = \" \"); \n",
        "                else: \n",
        "                    print(\"\", end = \"\"); \n",
        "                x += 1; \n",
        "                if ord(num[x]) - 48 != 0: \n",
        "                    print(single_digits[ord(num[x]) - 48]); \n",
        "        x += 1;  \n",
        "convert_to_words(\"909\"); \n",
        "convert_to_words(\"789\"); \n",
        "convert_to_words(\"654\");   "
      ],
      "execution_count": 21,
      "outputs": [
        {
          "output_type": "stream",
          "text": [
            "909 : nine hundred nine\n",
            "789 : seven hundred eighty nine\n",
            "654 : six hundred fifty four\n"
          ],
          "name": "stdout"
        }
      ]
    },
    {
      "cell_type": "markdown",
      "metadata": {
        "id": "d1bJoi1oUo4U",
        "colab_type": "text"
      },
      "source": [
        "**FILE EXERCISE:**"
      ]
    },
    {
      "cell_type": "markdown",
      "metadata": {
        "id": "-MQ46qVjUwa3",
        "colab_type": "text"
      },
      "source": [
        "\n",
        "Python Program to count the total number of charaters (except blank space) in a text file."
      ]
    },
    {
      "cell_type": "code",
      "metadata": {
        "id": "eGm7ASE5UvmT",
        "colab_type": "code",
        "colab": {
          "base_uri": "https://localhost:8080/",
          "height": 33
        },
        "outputId": "b213e185-4b9c-4090-8979-2ff8abc84331"
      },
      "source": [
        "file_txt = open(\"/content/sample.txt\")\t\t\n",
        "text = file_txt.read()\t\t\t\n",
        "ch = 0\t\n",
        "for i in text:\t\t\t\t\n",
        "\tif(i != \" \" and i != \"\\n\" ):\n",
        "\t\t ch+= 1\n",
        "print (\"Total num of characters: \",ch);"
      ],
      "execution_count": 27,
      "outputs": [
        {
          "output_type": "stream",
          "text": [
            "Total num of characters:  229\n"
          ],
          "name": "stdout"
        }
      ]
    },
    {
      "cell_type": "markdown",
      "metadata": {
        "id": "l4ESiOteV3xo",
        "colab_type": "text"
      },
      "source": [
        "Python Program to print all the numbers present in a text file with its total number of occurrence."
      ]
    },
    {
      "cell_type": "code",
      "metadata": {
        "id": "YrLs08MBV89N",
        "colab_type": "code",
        "colab": {
          "base_uri": "https://localhost:8080/",
          "height": 67
        },
        "outputId": "9a713b69-4579-489a-a361-2876d6927b46"
      },
      "source": [
        "file_txt = open(\"/content/sample.txt\")\t\t\n",
        "text = file_txt.read()\t\n",
        "w = []\t\n",
        "d = dict() \n",
        "for line in text: \n",
        "    line = line.strip() \t\n",
        "    if(line.isdigit()):\n",
        "           w.append(line)\n",
        "for j in w:\n",
        "      if j in d:\n",
        "        d[j] = d[j] + 1\n",
        "      else: \n",
        "            d[j] = 1 \n",
        "for key in list(d.keys()): \n",
        "    print(key, \":\", d[key])"
      ],
      "execution_count": 28,
      "outputs": [
        {
          "output_type": "stream",
          "text": [
            "4 : 1\n",
            "5 : 1\n",
            "6 : 1\n"
          ],
          "name": "stdout"
        }
      ]
    },
    {
      "cell_type": "markdown",
      "metadata": {
        "id": "Dn857pOsW4Mb",
        "colab_type": "text"
      },
      "source": [
        "\n",
        "Python Program to append the contents of one file to another file\n",
        "\n"
      ]
    },
    {
      "cell_type": "code",
      "metadata": {
        "id": "5Jg1jO0CXAaP",
        "colab_type": "code",
        "colab": {}
      },
      "source": [
        "fin = open(\"/content/sample.txt\", \"r\")\n",
        "data2 = fin.read()\n",
        "fin.close()\n",
        "fout = open(\"/content/empty.txt \", \"a\")\n",
        "fout.write(data2)\n",
        "fout.close()"
      ],
      "execution_count": 30,
      "outputs": []
    },
    {
      "cell_type": "markdown",
      "metadata": {
        "id": "v1ymroZAXd-M",
        "colab_type": "text"
      },
      "source": [
        "Python Program to count the number of blank spaces in a text file."
      ]
    },
    {
      "cell_type": "code",
      "metadata": {
        "id": "-a0NAGBiXfHX",
        "colab_type": "code",
        "colab": {
          "base_uri": "https://localhost:8080/",
          "height": 50
        },
        "outputId": "fbaed693-ca0e-4c30-849b-3585d7da8a2f"
      },
      "source": [
        "k = 0 \n",
        "with open(\"/content/empty.txt \", 'r') as f:\n",
        "    for line in f:\n",
        "        words = line.split()\n",
        "        for i in words:\n",
        "            for letter in i:\n",
        "                if(letter.isspace):\n",
        "                    k=k+1\n",
        "print(\"Occurrences of blank spaces:\")\n",
        "print(k)"
      ],
      "execution_count": 33,
      "outputs": [
        {
          "output_type": "stream",
          "text": [
            "Occurrences of blank spaces:\n",
            "229\n"
          ],
          "name": "stdout"
        }
      ]
    },
    {
      "cell_type": "markdown",
      "metadata": {
        "id": "a_UZDMqvX5MK",
        "colab_type": "text"
      },
      "source": [
        "Python Program to read a file and capitalize the first letter of every word in the file and copy the every word capitalized content into another file and read it "
      ]
    },
    {
      "cell_type": "code",
      "metadata": {
        "id": "4Vm1bOFSX6qo",
        "colab_type": "code",
        "colab": {
          "base_uri": "https://localhost:8080/",
          "height": 188
        },
        "outputId": "4d287c78-0b7a-4c4d-b084-ecd6a3b80965"
      },
      "source": [
        "with open(\"/content/empty.txt \", 'r') as f:\n",
        "  with open(\"/content/sample.txt \", \"w\") as f1:\n",
        "    for line in f:\n",
        "        l=line.title()\n",
        "        f1.write(l)\n",
        "file2=open(\"/content/sample.txt \",'r')\n",
        "line=file2.readline()\n",
        "while(line!=\"\"):\n",
        "    print(line)\n",
        "    line=file2.readline()\n",
        "file2.close()"
      ],
      "execution_count": 36,
      "outputs": [
        {
          "output_type": "stream",
          "text": [
            "I Would Love To Try Or Hear The Sample Audio Your App Can Produce. I Do Not Want To Purchase, Because I'Ve Purchased So Many Apps That Say They Do Something And Do Not Deliver.  \n",
            "\n",
            "\n",
            "\n",
            "Can You Please Add Audio Samples With Text You'Ve Converted? I'D Love To See The End Results.4 5 6\n",
            "\n",
            "\n",
            "\n",
            "Thanks!\n"
          ],
          "name": "stdout"
        }
      ]
    }
  ]
}