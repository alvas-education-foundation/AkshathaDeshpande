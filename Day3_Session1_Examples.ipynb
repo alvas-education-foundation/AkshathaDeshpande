{
  "nbformat": 4,
  "nbformat_minor": 0,
  "metadata": {
    "colab": {
      "name": "Day3_Session1_Examples.ipynb",
      "provenance": [],
      "authorship_tag": "ABX9TyPZU9Rm4uiI+w8fDZ4zqoSj",
      "include_colab_link": true
    },
    "kernelspec": {
      "name": "python3",
      "display_name": "Python 3"
    }
  },
  "cells": [
    {
      "cell_type": "markdown",
      "metadata": {
        "id": "view-in-github",
        "colab_type": "text"
      },
      "source": [
        "<a href=\"https://colab.research.google.com/github/alvas-education-foundation/AkshathaDeshpande/blob/master/Day3_Session1_Examples.ipynb\" target=\"_parent\"><img src=\"https://colab.research.google.com/assets/colab-badge.svg\" alt=\"Open In Colab\"/></a>"
      ]
    },
    {
      "cell_type": "markdown",
      "metadata": {
        "id": "xZnNN0LPTN2C",
        "colab_type": "text"
      },
      "source": [
        "Program for prime number -bad code\n"
      ]
    },
    {
      "cell_type": "code",
      "metadata": {
        "id": "9XC2cELeSo6_",
        "colab_type": "code",
        "colab": {
          "base_uri": "https://localhost:8080/",
          "height": 33
        },
        "outputId": "188fdd14-5235-4c1e-9393-0acde957be15"
      },
      "source": [
        "i=25\n",
        "for x in range(2, i//2+1):\n",
        "      if i%x==0:\n",
        "         print(\"The number {} is not prime\".format(i))\n",
        "         break\n",
        "if x ==i//2:\n",
        "   print (\"{} is a prime number\".format(i))"
      ],
      "execution_count": 1,
      "outputs": [
        {
          "output_type": "stream",
          "text": [
            "The number 25 is not prime\n"
          ],
          "name": "stdout"
        }
      ]
    },
    {
      "cell_type": "markdown",
      "metadata": {
        "id": "tSB3-L-STnQX",
        "colab_type": "text"
      },
      "source": [
        "Good code using for... else"
      ]
    },
    {
      "cell_type": "code",
      "metadata": {
        "id": "OCRUm9B8SsIl",
        "colab_type": "code",
        "colab": {
          "base_uri": "https://localhost:8080/",
          "height": 33
        },
        "outputId": "8e71a13c-9df1-4d71-ccdc-95634bcf3907"
      },
      "source": [
        "i=25\n",
        "for x in range(2, i//2+1):\n",
        "      if i%x==0:\n",
        "         print(\"The number {} is not prime\".format(i))\n",
        "         break\n",
        "else:\n",
        "    print (\"{} is a prime number\".format(i))"
      ],
      "execution_count": 2,
      "outputs": [
        {
          "output_type": "stream",
          "text": [
            "The number 25 is not prime\n"
          ],
          "name": "stdout"
        }
      ]
    },
    {
      "cell_type": "markdown",
      "metadata": {
        "id": "atirj1uJTzWE",
        "colab_type": "text"
      },
      "source": [
        "Bad unpacking"
      ]
    },
    {
      "cell_type": "code",
      "metadata": {
        "id": "UFfyT3YlTyJy",
        "colab_type": "code",
        "colab": {
          "base_uri": "https://localhost:8080/",
          "height": 33
        },
        "outputId": "fbb43887-52a4-4f14-91c7-c306aabe67bf"
      },
      "source": [
        "x = (1, 2, 4, 8, 16)\n",
        "a = x[0]\n",
        "b = x[1]\n",
        "c = x[2]\n",
        "d = x[3]\n",
        "e = x[4]\n",
        "print(a, b, c, d, e)"
      ],
      "execution_count": 3,
      "outputs": [
        {
          "output_type": "stream",
          "text": [
            "1 2 4 8 16\n"
          ],
          "name": "stdout"
        }
      ]
    },
    {
      "cell_type": "markdown",
      "metadata": {
        "id": "yY_oFm0_T8j7",
        "colab_type": "text"
      },
      "source": [
        "Excellent unpacking"
      ]
    },
    {
      "cell_type": "code",
      "metadata": {
        "id": "u2PTfd5nT7e-",
        "colab_type": "code",
        "colab": {
          "base_uri": "https://localhost:8080/",
          "height": 33
        },
        "outputId": "3db00d83-87ad-4205-8fab-71b174926eb4"
      },
      "source": [
        "a,b,c,d,e=x\n",
        "print(a, b, c, d, e)"
      ],
      "execution_count": 4,
      "outputs": [
        {
          "output_type": "stream",
          "text": [
            "1 2 4 8 16\n"
          ],
          "name": "stdout"
        }
      ]
    },
    {
      "cell_type": "markdown",
      "metadata": {
        "id": "eCU1pa3XUA1A",
        "colab_type": "text"
      },
      "source": [
        "unpacking some elements"
      ]
    },
    {
      "cell_type": "code",
      "metadata": {
        "id": "84Z2u-RPUC9T",
        "colab_type": "code",
        "colab": {
          "base_uri": "https://localhost:8080/",
          "height": 67
        },
        "outputId": "0a49f8a3-686b-42da-e291-d803e2e5e4ae"
      },
      "source": [
        "a, *y, e = x\n",
        "print(a)\n",
        "print(y)\n",
        "print(e)"
      ],
      "execution_count": 5,
      "outputs": [
        {
          "output_type": "stream",
          "text": [
            "1\n",
            "[2, 4, 8]\n",
            "16\n"
          ],
          "name": "stdout"
        }
      ]
    },
    {
      "cell_type": "markdown",
      "metadata": {
        "id": "ZIZAXa7_UUzd",
        "colab_type": "text"
      },
      "source": [
        "Using Chaining to Write Concise Code"
      ]
    },
    {
      "cell_type": "code",
      "metadata": {
        "id": "7O_YxAiBUVFp",
        "colab_type": "code",
        "colab": {
          "base_uri": "https://localhost:8080/",
          "height": 33
        },
        "outputId": "417f2368-9840-4f21-9a75-78c1b970a59c"
      },
      "source": [
        "x = 4\n",
        "print(x >= 2 and x <= 8)"
      ],
      "execution_count": 6,
      "outputs": [
        {
          "output_type": "stream",
          "text": [
            "True\n"
          ],
          "name": "stdout"
        }
      ]
    },
    {
      "cell_type": "markdown",
      "metadata": {
        "id": "OVXH7V1RUZlX",
        "colab_type": "text"
      },
      "source": [
        "Instead, you can write this in a more compact form, like mathematicians do:"
      ]
    },
    {
      "cell_type": "code",
      "metadata": {
        "id": "-5Tiv0-NUZ46",
        "colab_type": "code",
        "colab": {
          "base_uri": "https://localhost:8080/",
          "height": 50
        },
        "outputId": "6925b455-b79c-4563-a89c-60567405107b"
      },
      "source": [
        "print(2 <= x <= 8)\n",
        "print(2 <= x <= 3)"
      ],
      "execution_count": 7,
      "outputs": [
        {
          "output_type": "stream",
          "text": [
            "True\n",
            "False\n"
          ],
          "name": "stdout"
        }
      ]
    },
    {
      "cell_type": "markdown",
      "metadata": {
        "id": "PAdT_-c0UipL",
        "colab_type": "text"
      },
      "source": [
        "chained assignments"
      ]
    },
    {
      "cell_type": "code",
      "metadata": {
        "id": "C7h8J0HKUi_Q",
        "colab_type": "code",
        "colab": {
          "base_uri": "https://localhost:8080/",
          "height": 33
        },
        "outputId": "53b508c6-c1d1-476e-e20d-80134ab86d95"
      },
      "source": [
        "x = y = z = 2\n",
        "x, y, z"
      ],
      "execution_count": 8,
      "outputs": [
        {
          "output_type": "execute_result",
          "data": {
            "text/plain": [
              "(2, 2, 2)"
            ]
          },
          "metadata": {
            "tags": []
          },
          "execution_count": 8
        }
      ]
    },
    {
      "cell_type": "markdown",
      "metadata": {
        "id": "RyDKnk-oUwjP",
        "colab_type": "text"
      },
      "source": [
        "Checking against None"
      ]
    },
    {
      "cell_type": "code",
      "metadata": {
        "id": "ohuPWA3DUxEb",
        "colab_type": "code",
        "colab": {
          "base_uri": "https://localhost:8080/",
          "height": 84
        },
        "outputId": "3de55240-a329-4f82-e250-c7dcb23165c4"
      },
      "source": [
        "x, y = 2, None\n",
        "print(x == None)\n",
        "print(y == None)\n",
        "print(x != None)\n",
        "print(y != None)"
      ],
      "execution_count": 9,
      "outputs": [
        {
          "output_type": "stream",
          "text": [
            "False\n",
            "True\n",
            "True\n",
            "False\n"
          ],
          "name": "stdout"
        }
      ]
    },
    {
      "cell_type": "markdown",
      "metadata": {
        "id": "rcsFZEdEU9v8",
        "colab_type": "text"
      },
      "source": [
        "In pythonic way x is None\n"
      ]
    },
    {
      "cell_type": "code",
      "metadata": {
        "id": "uwEDWYHjVBrE",
        "colab_type": "code",
        "colab": {
          "base_uri": "https://localhost:8080/",
          "height": 84
        },
        "outputId": "06cf474b-938e-431f-cc3a-577e5b8129d2"
      },
      "source": [
        "print(x is None)\n",
        "print(y is None)\n",
        "print(x is not None)\n",
        "print(y is not None)"
      ],
      "execution_count": 10,
      "outputs": [
        {
          "output_type": "stream",
          "text": [
            "False\n",
            "True\n",
            "True\n",
            "False\n"
          ],
          "name": "stdout"
        }
      ]
    },
    {
      "cell_type": "markdown",
      "metadata": {
        "id": "dh2ubKbJVL5m",
        "colab_type": "text"
      },
      "source": [
        "Iterating over Sequences"
      ]
    },
    {
      "cell_type": "code",
      "metadata": {
        "id": "wWHEcN27VMjk",
        "colab_type": "code",
        "colab": {
          "base_uri": "https://localhost:8080/",
          "height": 101
        },
        "outputId": "06e7fe57-beee-417e-ad7c-f6804b9abf3b"
      },
      "source": [
        "x = [1, 2, 4, 8, 16]\n",
        "for i in range(len(x)):\n",
        "  print(x[i])"
      ],
      "execution_count": 11,
      "outputs": [
        {
          "output_type": "stream",
          "text": [
            "1\n",
            "2\n",
            "4\n",
            "8\n",
            "16\n"
          ],
          "name": "stdout"
        }
      ]
    },
    {
      "cell_type": "markdown",
      "metadata": {
        "id": "ZjjyghuEVSvK",
        "colab_type": "text"
      },
      "source": [
        "But instead we can do like this in elegant way"
      ]
    },
    {
      "cell_type": "code",
      "metadata": {
        "id": "NrLuhxmpVTSV",
        "colab_type": "code",
        "colab": {
          "base_uri": "https://localhost:8080/",
          "height": 101
        },
        "outputId": "9a04ae51-700b-46a0-ee04-c0b88d18f2f7"
      },
      "source": [
        "for item in x:\n",
        "  print(item)"
      ],
      "execution_count": 12,
      "outputs": [
        {
          "output_type": "stream",
          "text": [
            "1\n",
            "2\n",
            "4\n",
            "8\n",
            "16\n"
          ],
          "name": "stdout"
        }
      ]
    },
    {
      "cell_type": "markdown",
      "metadata": {
        "id": "xO4VJt25VZ9X",
        "colab_type": "text"
      },
      "source": [
        "to iterate in the reversed order"
      ]
    },
    {
      "cell_type": "code",
      "metadata": {
        "id": "eYs5i3M5VcmI",
        "colab_type": "code",
        "colab": {
          "base_uri": "https://localhost:8080/",
          "height": 101
        },
        "outputId": "5a0b530e-be49-41d2-c7ec-4d6dcd2eabe7"
      },
      "source": [
        "for i in range(len(x)-1, -1, -1):\n",
        "  print(x[i])"
      ],
      "execution_count": 13,
      "outputs": [
        {
          "output_type": "stream",
          "text": [
            "16\n",
            "8\n",
            "4\n",
            "2\n",
            "1\n"
          ],
          "name": "stdout"
        }
      ]
    },
    {
      "cell_type": "markdown",
      "metadata": {
        "id": "WUOm0aKXVhmb",
        "colab_type": "text"
      },
      "source": [
        "But in elegant way!"
      ]
    },
    {
      "cell_type": "code",
      "metadata": {
        "id": "1hNPTeCFVkQ0",
        "colab_type": "code",
        "colab": {
          "base_uri": "https://localhost:8080/",
          "height": 101
        },
        "outputId": "5b3863b0-3728-45af-8fde-db3c96ab9394"
      },
      "source": [
        "for item in x[::-1]:\n",
        "    print(item)"
      ],
      "execution_count": 15,
      "outputs": [
        {
          "output_type": "stream",
          "text": [
            "16\n",
            "8\n",
            "4\n",
            "2\n",
            "1\n"
          ],
          "name": "stdout"
        }
      ]
    },
    {
      "cell_type": "markdown",
      "metadata": {
        "id": "q_qfXBW3V05c",
        "colab_type": "text"
      },
      "source": [
        "The Pythonic way is to use reversed to get an iterator that yields the items of a sequence in the reversed order:"
      ]
    },
    {
      "cell_type": "code",
      "metadata": {
        "id": "pEkV4Y1EVxsw",
        "colab_type": "code",
        "colab": {
          "base_uri": "https://localhost:8080/",
          "height": 101
        },
        "outputId": "b6375dd0-a3ca-4e16-ae4a-8e69329aa41c"
      },
      "source": [
        "for item in reversed(x):\n",
        "  print(item)"
      ],
      "execution_count": 16,
      "outputs": [
        {
          "output_type": "stream",
          "text": [
            "16\n",
            "8\n",
            "4\n",
            "2\n",
            "1\n"
          ],
          "name": "stdout"
        }
      ]
    },
    {
      "cell_type": "markdown",
      "metadata": {
        "id": "K_6Rpo7bV_B0",
        "colab_type": "text"
      },
      "source": [
        "Sometimes you need both the items from a sequence and the corresponding indices:\n",
        "\n",
        "\n"
      ]
    },
    {
      "cell_type": "code",
      "metadata": {
        "id": "QQDnv-v2V7kX",
        "colab_type": "code",
        "colab": {
          "base_uri": "https://localhost:8080/",
          "height": 101
        },
        "outputId": "e0ecfe47-fa80-4f7b-e2d2-94a4f5251541"
      },
      "source": [
        "for i in range(len(x)):\n",
        "  print(i, x[i])"
      ],
      "execution_count": 17,
      "outputs": [
        {
          "output_type": "stream",
          "text": [
            "0 1\n",
            "1 2\n",
            "2 4\n",
            "3 8\n",
            "4 16\n"
          ],
          "name": "stdout"
        }
      ]
    },
    {
      "cell_type": "markdown",
      "metadata": {
        "id": "Rd-j3qd3WFjh",
        "colab_type": "text"
      },
      "source": [
        "It’s better to use enumerate to get another iterator that yields the tuples with the indices\n",
        "and items:"
      ]
    },
    {
      "cell_type": "code",
      "metadata": {
        "id": "gljiS_jUWIeF",
        "colab_type": "code",
        "colab": {
          "base_uri": "https://localhost:8080/",
          "height": 101
        },
        "outputId": "f25aa396-49e3-4ce1-e5e1-144fb4a92136"
      },
      "source": [
        "for i, item in enumerate(x):\n",
        "  print(i, item)"
      ],
      "execution_count": 18,
      "outputs": [
        {
          "output_type": "stream",
          "text": [
            "0 1\n",
            "1 2\n",
            "2 4\n",
            "3 8\n",
            "4 16\n"
          ],
          "name": "stdout"
        }
      ]
    },
    {
      "cell_type": "markdown",
      "metadata": {
        "id": "k5m6KZQCWUck",
        "colab_type": "text"
      },
      "source": [
        "what if you want to iterate over two or more sequences? Of course, you can use the\n",
        "range again:"
      ]
    },
    {
      "cell_type": "code",
      "metadata": {
        "id": "HyWs6FLVWVFA",
        "colab_type": "code",
        "colab": {
          "base_uri": "https://localhost:8080/",
          "height": 101
        },
        "outputId": "a038fb42-ee91-45a0-9844-518a8b048738"
      },
      "source": [
        "y = 'abcde'\n",
        "for i in range(len(x)):\n",
        "  print(x[i], y[i])"
      ],
      "execution_count": 19,
      "outputs": [
        {
          "output_type": "stream",
          "text": [
            "1 a\n",
            "2 b\n",
            "4 c\n",
            "8 d\n",
            "16 e\n"
          ],
          "name": "stdout"
        }
      ]
    },
    {
      "cell_type": "markdown",
      "metadata": {
        "id": "cu0PnRULWf9-",
        "colab_type": "text"
      },
      "source": [
        "In this case, Python also offers a better solution. You can apply zip and get tuples of the\n",
        "corresponding items:"
      ]
    },
    {
      "cell_type": "code",
      "metadata": {
        "id": "dSbn6avIWfZ4",
        "colab_type": "code",
        "colab": {
          "base_uri": "https://localhost:8080/",
          "height": 101
        },
        "outputId": "b957b31d-9764-4160-e0bd-2b9013080069"
      },
      "source": [
        "for item in zip(x, y):\n",
        "  print(item)"
      ],
      "execution_count": 20,
      "outputs": [
        {
          "output_type": "stream",
          "text": [
            "(1, 'a')\n",
            "(2, 'b')\n",
            "(4, 'c')\n",
            "(8, 'd')\n",
            "(16, 'e')\n"
          ],
          "name": "stdout"
        }
      ]
    },
    {
      "cell_type": "markdown",
      "metadata": {
        "id": "huvwBARpWrkH",
        "colab_type": "text"
      },
      "source": [
        "You can combine it with unpacking:"
      ]
    },
    {
      "cell_type": "code",
      "metadata": {
        "id": "HsB9P8oOWozi",
        "colab_type": "code",
        "colab": {
          "base_uri": "https://localhost:8080/",
          "height": 101
        },
        "outputId": "258116ec-dc63-4410-eacc-153d85768e4e"
      },
      "source": [
        "for x_item, y_item in zip(x, y):\n",
        "  print(x_item, y_item)"
      ],
      "execution_count": 21,
      "outputs": [
        {
          "output_type": "stream",
          "text": [
            "1 a\n",
            "2 b\n",
            "4 c\n",
            "8 d\n",
            "16 e\n"
          ],
          "name": "stdout"
        }
      ]
    },
    {
      "cell_type": "markdown",
      "metadata": {
        "id": "gHRNS8vOWuST",
        "colab_type": "text"
      },
      "source": [
        "Dictionary can be iterated in these two ways\n"
      ]
    },
    {
      "cell_type": "code",
      "metadata": {
        "id": "LmjndDe_W9Qm",
        "colab_type": "code",
        "colab": {
          "base_uri": "https://localhost:8080/",
          "height": 84
        },
        "outputId": "0d61665a-bcb2-4128-8dc9-eee66f697662"
      },
      "source": [
        "z = {'a': 0, 'b': 1}\n",
        "for k in z:\n",
        "  print(k, z[k])\n",
        "for k, v in z.items():\n",
        "  print(k, v)"
      ],
      "execution_count": 23,
      "outputs": [
        {
          "output_type": "stream",
          "text": [
            "a 0\n",
            "b 1\n",
            "a 0\n",
            "b 1\n"
          ],
          "name": "stdout"
        }
      ]
    },
    {
      "cell_type": "markdown",
      "metadata": {
        "id": "P6XKHPXsXEEI",
        "colab_type": "text"
      },
      "source": [
        "Comparing to Zero\n",
        "To print only non zero values from tuple x"
      ]
    },
    {
      "cell_type": "code",
      "metadata": {
        "id": "pXtd5IcRXJ3D",
        "colab_type": "code",
        "colab": {
          "base_uri": "https://localhost:8080/",
          "height": 84
        },
        "outputId": "71ef9ea1-90fb-432b-e971-590de7bff010"
      },
      "source": [
        "x = (1, 2, 0, 3, 0, 4)\n",
        "for item in x:\n",
        "    if item != 0:\n",
        "      print(item)"
      ],
      "execution_count": 24,
      "outputs": [
        {
          "output_type": "stream",
          "text": [
            "1\n",
            "2\n",
            "3\n",
            "4\n"
          ],
          "name": "stdout"
        }
      ]
    },
    {
      "cell_type": "markdown",
      "metadata": {
        "id": "SjO2wlXLXked",
        "colab_type": "text"
      },
      "source": [
        "The Pythonic way is to exploit the fact that zero is interpreted as False in a Boolean\n",
        "context, while all other numbers are considered as True:"
      ]
    },
    {
      "cell_type": "code",
      "metadata": {
        "id": "jZU_pR0YXli3",
        "colab_type": "code",
        "colab": {
          "base_uri": "https://localhost:8080/",
          "height": 84
        },
        "outputId": "039eb5d5-31ba-4e44-a0e1-9625507500af"
      },
      "source": [
        "#bool(0)- False\n",
        "#bool(-1), bool(1), bool(20), bool(28.4) - (True, True, True, True)\n",
        "for item in x:\n",
        "  if item:\n",
        "    print(item)"
      ],
      "execution_count": 26,
      "outputs": [
        {
          "output_type": "stream",
          "text": [
            "1\n",
            "2\n",
            "3\n",
            "4\n"
          ],
          "name": "stdout"
        }
      ]
    },
    {
      "cell_type": "markdown",
      "metadata": {
        "id": "lEUZBaN1XvXw",
        "colab_type": "text"
      },
      "source": [
        "Avoiding Mutable Optional Arguments"
      ]
    },
    {
      "cell_type": "code",
      "metadata": {
        "id": "fjsv0vIrXyWh",
        "colab_type": "code",
        "colab": {
          "base_uri": "https://localhost:8080/",
          "height": 84
        },
        "outputId": "3b60f74c-311b-4871-9740-e2149809ae67"
      },
      "source": [
        "def func(value, seq=[]):\n",
        "  seq.append(value)\n",
        "  return seq\n",
        "print(func(value=2))\n",
        "print(func(value=4))\n",
        "print(func(value=6))\n",
        "print(func(value=8))"
      ],
      "execution_count": 28,
      "outputs": [
        {
          "output_type": "stream",
          "text": [
            "[2]\n",
            "[2, 4]\n",
            "[2, 4, 6]\n",
            "[2, 4, 6, 8]\n"
          ],
          "name": "stdout"
        }
      ]
    },
    {
      "cell_type": "markdown",
      "metadata": {
        "id": "OGDOLJ5dX20c",
        "colab_type": "text"
      },
      "source": [
        "keep away from that with some additional logic."
      ]
    },
    {
      "cell_type": "code",
      "metadata": {
        "id": "WMwVckvDYCbh",
        "colab_type": "code",
        "colab": {
          "base_uri": "https://localhost:8080/",
          "height": 33
        },
        "outputId": "a301b55d-e7f7-4dc2-ab0a-0ccec87c7d54"
      },
      "source": [
        "def func(value, seq=None):\n",
        "  if seq is None:\n",
        "    seq = []\n",
        "    seq.append(value)\n",
        "    return seq\n",
        "print(func(value=6))"
      ],
      "execution_count": 29,
      "outputs": [
        {
          "output_type": "stream",
          "text": [
            "[6]\n"
          ],
          "name": "stdout"
        }
      ]
    }
  ]
}